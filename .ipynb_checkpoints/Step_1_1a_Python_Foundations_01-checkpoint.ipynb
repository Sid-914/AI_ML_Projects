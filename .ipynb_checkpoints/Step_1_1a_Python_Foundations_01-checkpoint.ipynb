{
 "cells": [
  {
   "cell_type": "markdown",
   "metadata": {
    "colab_type": "text",
    "id": "lpSmGhBc8LLD"
   },
   "source": [
    "# Hello World\n",
    "\n",
    "- `print` function is used to print the content inside the quotes \n",
    "- can be in 'single quotes' or \"double quotes\""
   ]
  },
  {
   "cell_type": "code",
   "execution_count": 1,
   "metadata": {
    "colab": {},
    "colab_type": "code",
    "id": "SYwfRR4V54WD"
   },
   "outputs": [
    {
     "name": "stdout",
     "output_type": "stream",
     "text": [
      "Hello World\n"
     ]
    }
   ],
   "source": [
    " print(\"Hello World\")"
   ]
  },
  {
   "cell_type": "markdown",
   "metadata": {
    "colab_type": "text",
    "id": "DtT5-GHsBSgr"
   },
   "source": [
    "### What just happened? \n",
    "\n",
    "-  when you run Python code\n",
    "    - the computer interprets the code and executes it \n",
    "\n",
    "- `print` is a function which will display whatever is provided in brackets \n",
    "    - in case of a mathematical expression, the result is evaluated and displayed\n",
    "    - if there is a string, it is simply displayed \n",
    "\n",
    "- there are many such functions in Python built for specifc tasks\n",
    "    - simply call the function and give it an input\n",
    "\n",
    "- `type` is another such function  \n",
    "    - it displays the type of the data provided in brackets \n"
   ]
  },
  {
   "cell_type": "markdown",
   "metadata": {},
   "source": [
    "#### Alright!\n",
    "\n",
    "Let's see you run a python code now , \n",
    "\n",
    "### Excercise : 1\n",
    "\n",
    "Write a print function that prints **\"I am new to python!\"**"
   ]
  },
  {
   "cell_type": "markdown",
   "metadata": {
    "colab_type": "text",
    "id": "nkurFbdhUamk"
   },
   "source": [
    "\n",
    "\n",
    "---\n",
    "\n"
   ]
  },
  {
   "cell_type": "markdown",
   "metadata": {},
   "source": [
    "# Help Command\n",
    "\n",
    "- shows the description about the object that is given to the command\n",
    "- lets see how the `help()` command works for the `print()` command"
   ]
  },
  {
   "cell_type": "code",
   "execution_count": 2,
   "metadata": {},
   "outputs": [
    {
     "name": "stdout",
     "output_type": "stream",
     "text": [
      "Help on built-in function print in module builtins:\n",
      "\n",
      "print(...)\n",
      "    print(value, ..., sep=' ', end='\\n', file=sys.stdout, flush=False)\n",
      "    \n",
      "    Prints the values to a stream, or to sys.stdout by default.\n",
      "    Optional keyword arguments:\n",
      "    file:  a file-like object (stream); defaults to the current sys.stdout.\n",
      "    sep:   string inserted between values, default a space.\n",
      "    end:   string appended after the last value, default a newline.\n",
      "    flush: whether to forcibly flush the stream.\n",
      "\n"
     ]
    }
   ],
   "source": [
    "help(print)"
   ]
  },
  {
   "cell_type": "markdown",
   "metadata": {
    "colab_type": "text",
    "id": "5o0nTXQs_wli"
   },
   "source": [
    "# Comments\n",
    "\n",
    "- comments are text in code that is not executed by the interpreter \n",
    "  - in Python, comments begin with `#`\n",
    "- comments may be used creatively to comment out pieces of code to stop the interpreter from running it\n",
    "- shortcut to toggle comment on a line \n",
    "  - `CMD + /` (macOS) \n",
    "  - `Ctrl + /` (Windows)"
   ]
  },
  {
   "cell_type": "code",
   "execution_count": 3,
   "metadata": {
    "colab": {},
    "colab_type": "code",
    "id": "8yhm3nX-BGyM"
   },
   "outputs": [
    {
     "name": "stdout",
     "output_type": "stream",
     "text": [
      "this is not a comment\n",
      "this is not a comment either\n"
     ]
    }
   ],
   "source": [
    "# this is a single comment\n",
    "print('this is not a comment')\n",
    "\n",
    "# comments can be added like this as well\n",
    "\"\"\"\n",
    "This is a \n",
    "multi-line comment\n",
    "\"\"\"\n",
    "print(\"this is not a comment either\") "
   ]
  },
  {
   "cell_type": "markdown",
   "metadata": {},
   "source": [
    "#### Now, let's try to write our own comments \n",
    "\n",
    "### Excercise : 2\n",
    "\n",
    "To the program where you printed out `I am Learning python`\n",
    "\n",
    "Add a comment `It is possible to write within my code blocks without python using #`"
   ]
  },
  {
   "cell_type": "markdown",
   "metadata": {
    "colab_type": "text",
    "id": "22s4O8ASG5zi"
   },
   "source": [
    "# Variables\n",
    "\n",
    "- data entities that takes a value "
   ]
  },
  {
   "cell_type": "code",
   "execution_count": 4,
   "metadata": {
    "colab": {},
    "colab_type": "code",
    "id": "JodvxoYHUGMV"
   },
   "outputs": [
    {
     "name": "stdout",
     "output_type": "stream",
     "text": [
      "7\n"
     ]
    }
   ],
   "source": [
    "# bind number 7 to variable 'x'\n",
    "x = 7 # the value of 7 is assigned to x \n",
    "\n",
    "# print value of 'x'\n",
    "print(x)"
   ]
  },
  {
   "cell_type": "markdown",
   "metadata": {
    "colab_type": "text",
    "id": "V_d9kh4IXiP4"
   },
   "source": [
    "### Python Variable Naming Convention (Industry Standard)\n",
    "\n",
    "- variables names start with a lowercase letter or underscore \n",
    "  - can be followed by numbers or underscore\n",
    "- `snake_case` is the conventional way of writing variable names with multiple words\n",
    "- variable names cannot begin with a number but numers can be a part of the variable name later\n",
    "    - eg: names like: `va923`, `_app4r_`, `f8_9`, `tmp`; are allowed\n",
    "    - eg: names like: `9va23`, `#app4r_`, `f8-9`, `tm*p`; are **NOT** allowed\n",
    "\n"
   ]
  },
  {
   "cell_type": "markdown",
   "metadata": {},
   "source": [
    "#### Let's try making a variable that contains your name then print it !\n",
    "\n",
    "### Excercise : 3 \n",
    "\n",
    "Create a variable as called `age` and add your age to it \n",
    "\n",
    "Next print out your age in your notebook !"
   ]
  },
  {
   "cell_type": "markdown",
   "metadata": {
    "colab_type": "text",
    "id": "ngbp6qMB8HCp"
   },
   "source": [
    "# Simple Program \n",
    "\n",
    "- *input*: uses the `input` command\n",
    "- *output*: used the `print` command"
   ]
  },
  {
   "cell_type": "code",
   "execution_count": 5,
   "metadata": {
    "colab": {},
    "colab_type": "code",
    "id": "hwduqFnf9AQf"
   },
   "outputs": [
    {
     "name": "stdout",
     "output_type": "stream",
     "text": [
      "What is your name? Piyush\n",
      "Welcome to the world of Python, Piyush\n"
     ]
    }
   ],
   "source": [
    "name = input('What is your name? ')\n",
    "print('Welcome to the world of Python,', name )"
   ]
  },
  {
   "cell_type": "markdown",
   "metadata": {},
   "source": [
    "#### Let's create input function that not only takes the name of the user but also their age and then let's print it \n",
    "\n",
    "### Excercise : 4\n",
    "\n",
    "Create two inputs with one taking the `name` and the other taking the `age`\n",
    "\n",
    "And then print out `Hey <name> I am glad you started learning python at the age of <age>`"
   ]
  },
  {
   "cell_type": "code",
   "execution_count": 8,
   "metadata": {},
   "outputs": [
    {
     "name": "stdout",
     "output_type": "stream",
     "text": [
      "what is your name? Piyush\n",
      "Enter your age: 12\n",
      "Hey Piyush I am glad you started learning python at the age of 12\n"
     ]
    }
   ],
   "source": [
    "name = input('what is your name? ')\n",
    "age = input('Enter your age: ')\n",
    "print(\"Hey\",name,\"I am glad you started learning python at the age of\",age)"
   ]
  },
  {
   "cell_type": "markdown",
   "metadata": {
    "colab_type": "text",
    "id": "HOIueHltjINE"
   },
   "source": [
    "\n",
    "\n",
    "---\n",
    "\n"
   ]
  },
  {
   "cell_type": "markdown",
   "metadata": {
    "colab_type": "text",
    "id": "MbnLml7e-kuY"
   },
   "source": [
    "# Data Types\n",
    "\n",
    "- a particular kind of data entity, defined by the values it can take\n",
    "\n",
    "- Python has several built-in data types, some of them are:\n",
    "  - *numeric* data types\n",
    "  - *text sequence* data type\n",
    "  - *sequence* data types\n",
    "  - *mapping* data type\n",
    "  - *boolean* data type\n",
    "  - *set* data type\n",
    "\n",
    "- the `type()` function is used to check the data type of something in Python"
   ]
  },
  {
   "cell_type": "markdown",
   "metadata": {
    "colab_type": "text",
    "id": "V-Ryyr41WjJa"
   },
   "source": [
    "### Numeric Data Types\n",
    "\n",
    "- two basic numeric data types\n",
    "  1. `int`: integers \n",
    "  2. `float`: decimal numbers \n"
   ]
  },
  {
   "cell_type": "code",
   "execution_count": 9,
   "metadata": {
    "colab": {},
    "colab_type": "code",
    "id": "VhUBnDvjWeG_"
   },
   "outputs": [
    {
     "data": {
      "text/plain": [
       "int"
      ]
     },
     "execution_count": 9,
     "metadata": {},
     "output_type": "execute_result"
    }
   ],
   "source": [
    "# create int type variable\n",
    "x = 7 # 7 is an integer\n",
    "\n",
    "# check type of variable\n",
    "type(x)"
   ]
  },
  {
   "cell_type": "code",
   "execution_count": 10,
   "metadata": {
    "colab": {},
    "colab_type": "code",
    "id": "KuCIeAxaXBpu"
   },
   "outputs": [
    {
     "data": {
      "text/plain": [
       "float"
      ]
     },
     "execution_count": 10,
     "metadata": {},
     "output_type": "execute_result"
    }
   ],
   "source": [
    "# create float type variable\n",
    "x = 3.14 # 3.14 is a decimal number with a characteristic and mantissa\n",
    "\n",
    "# check type of variable\n",
    "type(x)"
   ]
  },
  {
   "cell_type": "markdown",
   "metadata": {
    "colab_type": "text",
    "id": "DOfHS6uMYNZz"
   },
   "source": [
    "### Text Sequence Types\n",
    "\n",
    "- strings are a *text sequence* type\n",
    "  - they are a sequence of characters\n",
    "  - they are immutable\n",
    "  - they are ordered\n",
    "\n"
   ]
  },
  {
   "cell_type": "code",
   "execution_count": 11,
   "metadata": {
    "colab": {},
    "colab_type": "code",
    "id": "89E9Qtk_YfRW"
   },
   "outputs": [
    {
     "data": {
      "text/plain": [
       "str"
      ]
     },
     "execution_count": 11,
     "metadata": {},
     "output_type": "execute_result"
    }
   ],
   "source": [
    "# define a string \n",
    "python_string = 'BMS is awesome!'\n",
    "\n",
    "# check type \n",
    "type(python_string)"
   ]
  },
  {
   "cell_type": "code",
   "execution_count": 15,
   "metadata": {},
   "outputs": [
    {
     "name": "stdout",
     "output_type": "stream",
     "text": [
      "Enter a number: 1\n",
      "Enter a number: 1\n",
      "2\n"
     ]
    }
   ],
   "source": [
    "a = int(input('Enter a number: '))\n",
    "b = int(input('Enter a number: '))\n",
    "print(a + b)"
   ]
  },
  {
   "cell_type": "code",
   "execution_count": 14,
   "metadata": {},
   "outputs": [
    {
     "data": {
      "text/plain": [
       "'11'"
      ]
     },
     "execution_count": 14,
     "metadata": {},
     "output_type": "execute_result"
    }
   ],
   "source": [
    "'1' + '1'"
   ]
  },
  {
   "cell_type": "markdown",
   "metadata": {},
   "source": [
    "#### Now that we know how to find out the datatype of variables \n",
    "\n",
    "### Excercise : 5\n",
    "\n",
    "What is the datatype of these three variables : \n",
    "\n",
    "- discount = 43.8\n",
    "- height = 143\n",
    "- address = '#301, Pelican Street'"
   ]
  },
  {
   "cell_type": "markdown",
   "metadata": {
    "colab_type": "text",
    "id": "cyZwHE0NZf8h"
   },
   "source": [
    "### Sequence Types\n",
    "\n",
    "- there are three kinds of *sequence* types:\n",
    "  - `list`: mutable sequence\n",
    "  - `tuple`: immutable sequence\n",
    "  - `range`: immutable sequence\n"
   ]
  },
  {
   "cell_type": "markdown",
   "metadata": {
    "colab_type": "text",
    "id": "8YpT0uyZ4bp9"
   },
   "source": [
    "##### List"
   ]
  },
  {
   "cell_type": "code",
   "execution_count": null,
   "metadata": {
    "colab": {},
    "colab_type": "code",
    "id": "CLOPmGjAZ0nq"
   },
   "outputs": [],
   "source": [
    "# define a list\n",
    "list_example = ['3',92,'x',3.14]\n",
    "print(list_example)\n",
    "\n",
    "# check length of the list\n",
    "print(len(list_example))\n",
    "\n",
    "# check type\n",
    "type(list_example)"
   ]
  },
  {
   "cell_type": "markdown",
   "metadata": {
    "colab_type": "text",
    "id": "uHQcpC1n4eD4"
   },
   "source": [
    "##### Tuple"
   ]
  },
  {
   "cell_type": "code",
   "execution_count": null,
   "metadata": {
    "colab": {},
    "colab_type": "code",
    "id": "2dJtc4-faFva"
   },
   "outputs": [],
   "source": [
    "# define a tuple\n",
    "tuple_example = (5,'11','a',2.86)\n",
    "print(tuple_example)\n",
    "\n",
    "# check length of tuple\n",
    "print(len(tuple_example))\n",
    "\n",
    "# check type\n",
    "type(tuple_example)"
   ]
  },
  {
   "cell_type": "markdown",
   "metadata": {
    "colab_type": "text",
    "id": "S0-c3qakBxiL"
   },
   "source": [
    "##### Tuple vs List Comparison"
   ]
  },
  {
   "cell_type": "markdown",
   "metadata": {
    "colab_type": "text",
    "id": "Q7Mcr3g3KCvf"
   },
   "source": [
    "|Lists |Tuples |\n",
    "|------|-------|\n",
    "|ordered group of comma seperated values in *square brackets* |ordered group of comma seperated values in *parenthesis*   |\n",
    "|square brackets are mandatory |parenthesis not mandatory |\n",
    "|mutable |immutable|\n",
    "|once created, content changes *can* be made | once created, content *cannot* be changed |\n",
    "|should be chosen if content is not fixed, and keeps changing| chosen if content is fixed and never changes|\n",
    "| cannot be used as keys for dictionaries  | can be used as keys for dictionaries |\n",
    "|are *not* hashable and immutable| are hashable and immutable|"
   ]
  },
  {
   "cell_type": "markdown",
   "metadata": {},
   "source": [
    "#### Let's make something using lists!\n",
    "\n",
    "### Excercise : 6 \n",
    "\n",
    "Make a list of your favourite colour, food and place and save it in a list called `my_favs`\n"
   ]
  },
  {
   "cell_type": "markdown",
   "metadata": {
    "colab_type": "text",
    "id": "2m96nP1r4fx1"
   },
   "source": [
    "##### Range"
   ]
  },
  {
   "cell_type": "code",
   "execution_count": null,
   "metadata": {
    "colab": {},
    "colab_type": "code",
    "id": "f1gavBzpjJdx"
   },
   "outputs": [],
   "source": [
    "# define a range\n",
    "range_example = range(7)\n",
    "print(range_example)\n",
    "\n",
    "# check length of the range\n",
    "print(len(range_example))\n",
    "\n",
    "# check type\n",
    "type(range_example)"
   ]
  },
  {
   "cell_type": "code",
   "execution_count": null,
   "metadata": {
    "colab": {},
    "colab_type": "code",
    "id": "4QwVQkXs7Tww"
   },
   "outputs": [],
   "source": [
    "# define range with (start,stop,step)\n",
    "range_example = range(0,20,2)\n",
    "print(range_example)\n",
    "\n",
    "# check length of the range\n",
    "print(len(range_example))\n",
    "\n",
    "# check type\n",
    "type(range_example)"
   ]
  },
  {
   "cell_type": "markdown",
   "metadata": {},
   "source": [
    "#### Let's get a bit crafty with the range function \n",
    "\n",
    "### Excercise : 7\n",
    "\n",
    "Using the range function from 4 to 40 and then check the length "
   ]
  },
  {
   "cell_type": "markdown",
   "metadata": {
    "colab_type": "text",
    "id": "NRCc4X9t7txo"
   },
   "source": [
    "### Mapping Types\n",
    "\n",
    "- `dictionary` is a mapping data type\n",
    "  - it is mutable\n",
    "  - unordered"
   ]
  },
  {
   "cell_type": "code",
   "execution_count": null,
   "metadata": {
    "colab": {},
    "colab_type": "code",
    "id": "V7E5S_Pi8CL5"
   },
   "outputs": [],
   "source": [
    "# define a dictionary\n",
    "b = {'one': 1, 'two': 2, 'three': 3}\n",
    "print(b)\n",
    "\n",
    "# check type     \n",
    "type(b)\n"
   ]
  },
  {
   "cell_type": "markdown",
   "metadata": {},
   "source": [
    "#### What can we do with dictionaries ? \n",
    "\n",
    "### Excercise : 8 \n",
    "\n",
    "Make a dictionary with students name and their scores !\n",
    "\n",
    "- **Student** : Jake **Score** : 70\n",
    "- **Student** : Mako **Score** : 75 \n",
    "- **Student** : Alex **Score** : 78.5"
   ]
  },
  {
   "cell_type": "markdown",
   "metadata": {
    "colab_type": "text",
    "id": "lKKc8_txEZfZ"
   },
   "source": [
    "### Boolean Types\n",
    "\n",
    "- state of truth\n",
    "  - may be `True` or `False`"
   ]
  },
  {
   "cell_type": "code",
   "execution_count": null,
   "metadata": {
    "colab": {},
    "colab_type": "code",
    "id": "r-vpeu0EE2qO"
   },
   "outputs": [],
   "source": [
    "# define a 'true' boolean \n",
    "boolean = True\n",
    "\n",
    "# check type\n",
    "type(boolean)"
   ]
  },
  {
   "cell_type": "code",
   "execution_count": null,
   "metadata": {
    "colab": {},
    "colab_type": "code",
    "id": "41VjvkEnFlTr"
   },
   "outputs": [],
   "source": [
    "# define a 'false' boolean \n",
    "boolean = False\n",
    "\n",
    "# check type\n",
    "type(boolean)"
   ]
  },
  {
   "cell_type": "markdown",
   "metadata": {
    "colab_type": "text",
    "id": "AqPov5UZGKGn"
   },
   "source": [
    "### Set Types\n",
    "\n",
    "- `set` is an unordered collection of *distinct* objects\n"
   ]
  },
  {
   "cell_type": "code",
   "execution_count": null,
   "metadata": {
    "colab": {},
    "colab_type": "code",
    "id": "SZeVqBS6PhGR"
   },
   "outputs": [],
   "source": [
    "set_of_numbers = {0,9,1,5,7}\n",
    "print(set_of_numbers)"
   ]
  },
  {
   "cell_type": "code",
   "execution_count": null,
   "metadata": {
    "colab": {},
    "colab_type": "code",
    "id": "wJXC95qEQO9-"
   },
   "outputs": [],
   "source": [
    "names = ['olivia', 'caleb', 'olivia']\n",
    "names_set = set(names)\n",
    "unique_names = list(names_set)\n",
    "print(unique_names)"
   ]
  },
  {
   "cell_type": "markdown",
   "metadata": {
    "colab_type": "text",
    "id": "tjCS2ZYwSzzr"
   },
   "source": [
    "# Operators\n",
    "\n",
    "- popular kinds of operators \n",
    "  - `numeric` operators \n",
    "  - `comparison` operators\n",
    "  - `logical` operators \n",
    "  - `assignment` operators\n",
    "  - `idenity` operators\n",
    "  - `membership` operators\n",
    "  \n",
    "- some are discussed below"
   ]
  },
  {
   "cell_type": "markdown",
   "metadata": {
    "colab_type": "text",
    "id": "hznBCmMWTo-3"
   },
   "source": [
    "### Numeric Operators\n",
    "\n",
    "- used with numeric data types to perform mathematical operations\n",
    "  - `+`: addition\n",
    "  - `-`: subtraction\n",
    "  - `*`: multiplication\n",
    "  - `/`: division\n",
    "  - `//`: floor division\n",
    "  - `%`: modulus (remainder)\n",
    "  - `**`: raising to power\n",
    "  - `abs()`: absolute value of number\n",
    "  - `round()`: rounds a number\n",
    "  - `bin()`: get binary version of a number\n",
    "  - `hex()`: get hexadecimal version of a number\n",
    "  "
   ]
  },
  {
   "cell_type": "code",
   "execution_count": null,
   "metadata": {
    "colab": {},
    "colab_type": "code",
    "id": "WXUYntQ2UBrw"
   },
   "outputs": [],
   "source": [
    "# set values of x, y and z for numeric operators exploration\n",
    "x = 5   # integer value\n",
    "y = 2.0 # float value\n",
    "z = -13 # negative integer\n",
    "\n",
    "#(run this cell to initialize values for the next few cells!)"
   ]
  },
  {
   "cell_type": "code",
   "execution_count": null,
   "metadata": {
    "colab": {},
    "colab_type": "code",
    "id": "M1uVWljKURAc"
   },
   "outputs": [],
   "source": [
    "# sum of x and y\n",
    "print(x + y)"
   ]
  },
  {
   "cell_type": "code",
   "execution_count": null,
   "metadata": {
    "colab": {},
    "colab_type": "code",
    "id": "Z-MpQqRYUWOJ"
   },
   "outputs": [],
   "source": [
    "# difference of x and y\n",
    "print(x - y)"
   ]
  },
  {
   "cell_type": "code",
   "execution_count": null,
   "metadata": {
    "colab": {},
    "colab_type": "code",
    "id": "WE4mrvqSUcoy"
   },
   "outputs": [],
   "source": [
    "# product of x and y\n",
    "print(x * y)"
   ]
  },
  {
   "cell_type": "code",
   "execution_count": null,
   "metadata": {
    "colab": {},
    "colab_type": "code",
    "id": "dky2S8LAUp1w"
   },
   "outputs": [],
   "source": [
    "# quotient of x and y\n",
    "print(x / y)"
   ]
  },
  {
   "cell_type": "code",
   "execution_count": null,
   "metadata": {
    "colab": {},
    "colab_type": "code",
    "id": "Xuho9rIaVfGu"
   },
   "outputs": [],
   "source": [
    "# floored quotient of x and y\n",
    "print(x // y)"
   ]
  },
  {
   "cell_type": "code",
   "execution_count": null,
   "metadata": {
    "colab": {},
    "colab_type": "code",
    "id": "Y10YZhtXVlkC"
   },
   "outputs": [],
   "source": [
    "# remainder of x / y\n",
    "print(x % y)"
   ]
  },
  {
   "cell_type": "code",
   "execution_count": null,
   "metadata": {
    "colab": {},
    "colab_type": "code",
    "id": "ZeyJGUhAWxC0"
   },
   "outputs": [],
   "source": [
    "# absolute value \n",
    "print(abs(z))"
   ]
  },
  {
   "cell_type": "code",
   "execution_count": null,
   "metadata": {
    "colab": {},
    "colab_type": "code",
    "id": "3A9He5KSZSoS"
   },
   "outputs": [],
   "source": [
    "# x raised to power y\n",
    "print(x ** y)"
   ]
  },
  {
   "cell_type": "code",
   "execution_count": null,
   "metadata": {
    "colab": {},
    "colab_type": "code",
    "id": "IY8J4GvSrDy3"
   },
   "outputs": [],
   "source": [
    "# rounding a decimal example - round down\n",
    "print(round(2.1))"
   ]
  },
  {
   "cell_type": "code",
   "execution_count": null,
   "metadata": {
    "colab": {},
    "colab_type": "code",
    "id": "erUbhft0rI8_"
   },
   "outputs": [],
   "source": [
    "# rounding a decimal example - round up\n",
    "print(round(3.7))"
   ]
  },
  {
   "cell_type": "code",
   "execution_count": null,
   "metadata": {
    "colab": {},
    "colab_type": "code",
    "id": "0fH3cpqiTO4I"
   },
   "outputs": [],
   "source": [
    "# binary version of the number\n",
    "print(bin(37))"
   ]
  },
  {
   "cell_type": "code",
   "execution_count": null,
   "metadata": {
    "colab": {},
    "colab_type": "code",
    "id": "eCP52MxxTqEN"
   },
   "outputs": [],
   "source": [
    "# hexadecimal version of the number\n",
    "print(hex(37))"
   ]
  },
  {
   "cell_type": "markdown",
   "metadata": {},
   "source": [
    "#### Operators are the lifelines of any programming language ,let's put them to good use \n",
    "\n",
    "### Excercise : 9 \n",
    "Create a variable with the value of `pi` as `3.14`, create a new variable as `radius` and assign it a `float` value, this will be the radius of a circle and then output the area of the circle using the formula **pi*radius^2** \n",
    "\n",
    "\n",
    "\n",
    "\n"
   ]
  },
  {
   "cell_type": "code",
   "execution_count": 6,
   "metadata": {},
   "outputs": [
    {
     "name": "stdout",
     "output_type": "stream",
     "text": [
      "38.465\n"
     ]
    }
   ],
   "source": [
    "pi = 3.14\n",
    "radius = 3.5\n",
    "area = pi * radius ** 2\n",
    "print(area)"
   ]
  },
  {
   "cell_type": "markdown",
   "metadata": {
    "colab_type": "text",
    "id": "FVEWNfE2tBmO"
   },
   "source": [
    "### Comparison Operators\n",
    "\n",
    "- used to compare two values\n",
    "  - `<`: less than \n",
    "  - `>`: greater than \n",
    "  - `<=`: less than or equal to\n",
    "  - `>=`: greater than or equal to\n",
    "  - `==`: equality \n",
    "  - `!=`: inequality \n"
   ]
  },
  {
   "cell_type": "code",
   "execution_count": null,
   "metadata": {
    "colab": {},
    "colab_type": "code",
    "id": "UQ_B2f9G0s-Q"
   },
   "outputs": [],
   "source": [
    "# Greater Than \n",
    "i = 3 \n",
    "j = 7\n",
    "\n",
    "print(i > j) "
   ]
  },
  {
   "cell_type": "code",
   "execution_count": null,
   "metadata": {
    "colab": {},
    "colab_type": "code",
    "id": "oDAqMFFL07RE"
   },
   "outputs": [],
   "source": [
    "# Greater Than or Equal\n",
    "i = 3 \n",
    "j = 7\n",
    "\n",
    "print(i >= j) "
   ]
  },
  {
   "cell_type": "code",
   "execution_count": null,
   "metadata": {
    "colab": {},
    "colab_type": "code",
    "id": "uwY13XEW1DMx"
   },
   "outputs": [],
   "source": [
    "# Less Than \n",
    "i = 3 \n",
    "j = 7\n",
    "\n",
    "print(i < j) "
   ]
  },
  {
   "cell_type": "code",
   "execution_count": null,
   "metadata": {
    "colab": {},
    "colab_type": "code",
    "id": "JjaE8Vlp1IbX"
   },
   "outputs": [],
   "source": [
    "# Less Than or Equal \n",
    "i = 3 \n",
    "j = 7\n",
    "\n",
    "print(i <= j) "
   ]
  },
  {
   "cell_type": "code",
   "execution_count": null,
   "metadata": {
    "colab": {},
    "colab_type": "code",
    "id": "rCV0Eqr51QNy"
   },
   "outputs": [],
   "source": [
    "# Equality Test #1\n",
    "i = 3\n",
    "j = 7\n",
    "\n",
    "print(i == j)"
   ]
  },
  {
   "cell_type": "code",
   "execution_count": null,
   "metadata": {
    "colab": {},
    "colab_type": "code",
    "id": "IrDlCVTh1WcW"
   },
   "outputs": [],
   "source": [
    "# Equality Test #2\n",
    "i = 3\n",
    "j = 3\n",
    "\n",
    "print(i == j)"
   ]
  },
  {
   "cell_type": "code",
   "execution_count": null,
   "metadata": {
    "colab": {},
    "colab_type": "code",
    "id": "3FNeOVhL1YvU"
   },
   "outputs": [],
   "source": [
    "# Inequality Test #1\n",
    "i = 3\n",
    "j = 7\n",
    "\n",
    "print(i != j)"
   ]
  },
  {
   "cell_type": "code",
   "execution_count": null,
   "metadata": {
    "colab": {},
    "colab_type": "code",
    "id": "iCCqDBvn1cRK"
   },
   "outputs": [],
   "source": [
    "# Inequality Test #2\n",
    "i = 3\n",
    "j = 3\n",
    "\n",
    "print(i != j)"
   ]
  },
  {
   "cell_type": "markdown",
   "metadata": {},
   "source": [
    "#### Let's see what comparison operator can do for us \n",
    "\n",
    "### Excercise : 10 \n",
    "\n",
    "In the last excercise you created a program to get the area of a circle , create a print function that checks if the area that your program created is bigger than 50 or not "
   ]
  },
  {
   "cell_type": "code",
   "execution_count": 8,
   "metadata": {},
   "outputs": [
    {
     "name": "stdout",
     "output_type": "stream",
     "text": [
      "63.585\n",
      "True\n"
     ]
    }
   ],
   "source": [
    "pi = 3.14\n",
    "radius = 4.5\n",
    "area = pi * radius ** 2\n",
    "print(area)\n",
    "print(area > 50)"
   ]
  },
  {
   "cell_type": "markdown",
   "metadata": {
    "colab_type": "text",
    "id": "RnXfEOFTtIlQ"
   },
   "source": [
    "### Logic Operators\n",
    "\n",
    "- used to combine conditional statements\n",
    "  - `and` \n",
    "  - `or`\n",
    "  - `not`"
   ]
  },
  {
   "cell_type": "markdown",
   "metadata": {
    "colab_type": "text",
    "id": "O4f26P_b6dtP"
   },
   "source": [
    "##### `not` Operator"
   ]
  },
  {
   "cell_type": "code",
   "execution_count": 1,
   "metadata": {
    "colab": {},
    "colab_type": "code",
    "id": "Ct9tSfdF1xXc"
   },
   "outputs": [
    {
     "name": "stdout",
     "output_type": "stream",
     "text": [
      "False\n"
     ]
    }
   ],
   "source": [
    "##  'not' operator \n",
    "a = True\n",
    "\n",
    "print(not a)"
   ]
  },
  {
   "cell_type": "code",
   "execution_count": 2,
   "metadata": {},
   "outputs": [
    {
     "name": "stdout",
     "output_type": "stream",
     "text": [
      "True\n"
     ]
    }
   ],
   "source": [
    "b = False\n",
    "print(not b)"
   ]
  },
  {
   "cell_type": "markdown",
   "metadata": {
    "colab_type": "text",
    "id": "24vGgjHNhmwd"
   },
   "source": [
    "![Logic Tables](https://i.imgur.com/42pVFtJ.jpg \"Logic Tables\")"
   ]
  },
  {
   "cell_type": "markdown",
   "metadata": {
    "colab_type": "text",
    "id": "sAQx5pF_6fze"
   },
   "source": [
    "##### `and` Operator"
   ]
  },
  {
   "cell_type": "code",
   "execution_count": 3,
   "metadata": {
    "colab": {},
    "colab_type": "code",
    "id": "NoztpM2w15TD"
   },
   "outputs": [
    {
     "name": "stdout",
     "output_type": "stream",
     "text": [
      "True\n",
      "False\n",
      "False\n",
      "False\n"
     ]
    }
   ],
   "source": [
    "# a and b are true\n",
    "a = True \n",
    "b = True\n",
    "\n",
    "print(a and b)\n",
    "\n",
    "# only a is true \n",
    "a = True \n",
    "b = False\n",
    "\n",
    "print(a and b)\n",
    "\n",
    "# only b is true \n",
    "a = False \n",
    "b = True\n",
    "\n",
    "print(a and b)\n",
    "\n",
    "# a and b are both false\n",
    "a = False \n",
    "b = False\n",
    "\n",
    "print(a and b)"
   ]
  },
  {
   "cell_type": "markdown",
   "metadata": {
    "colab_type": "text",
    "id": "7dyMpmJX6qHl"
   },
   "source": [
    "##### `or` Operator"
   ]
  },
  {
   "cell_type": "code",
   "execution_count": 4,
   "metadata": {
    "colab": {},
    "colab_type": "code",
    "id": "vV85OnE_2oMp"
   },
   "outputs": [
    {
     "name": "stdout",
     "output_type": "stream",
     "text": [
      "True\n",
      "True\n",
      "True\n",
      "False\n"
     ]
    }
   ],
   "source": [
    "## 'or' operator \n",
    "\n",
    "# a and b are true\n",
    "a = True \n",
    "b = True\n",
    "\n",
    "print(a or b)\n",
    "\n",
    "# only a is true \n",
    "a = True \n",
    "b = False\n",
    "\n",
    "print(a or b)\n",
    "\n",
    "# only b is true \n",
    "a = False \n",
    "b = True\n",
    "\n",
    "print(a or b)\n",
    "\n",
    "# a and b are both false\n",
    "a = False \n",
    "b = False\n",
    "\n",
    "print(a or b)"
   ]
  },
  {
   "cell_type": "markdown",
   "metadata": {},
   "source": [
    "#### To be OR not to be ? Let's explore what we can get done using logical operators \n",
    "\n",
    "### Excercise : 11 \n",
    "\n",
    "Create a print function for our circle area generator to check if the area is between 20 `AND` 50 \n",
    "\n"
   ]
  },
  {
   "cell_type": "code",
   "execution_count": 11,
   "metadata": {},
   "outputs": [
    {
     "name": "stdout",
     "output_type": "stream",
     "text": [
      "38.465\n",
      "True\n"
     ]
    }
   ],
   "source": [
    "pi = 3.14\n",
    "radius = 3.5\n",
    "area = pi * radius ** 2\n",
    "print(area)\n",
    "print(area >= 20 and area <= 50)"
   ]
  },
  {
   "cell_type": "markdown",
   "metadata": {
    "colab_type": "text",
    "id": "-BeCjQwTtksj"
   },
   "source": [
    "### Assignment Operators\n",
    "\n",
    "- used to assign values to variables\n",
    "  - `=`\n",
    "\n",
    "- following operators combine numerical operations at the same time as assignment\n",
    "  - `+=`\n",
    "  - `-=`\n",
    "  - `*=`\n",
    "  - `/=`\n",
    "  - `//=`\n",
    "  - `%=`\n",
    "  - `**=`"
   ]
  },
  {
   "cell_type": "code",
   "execution_count": 12,
   "metadata": {
    "colab": {},
    "colab_type": "code",
    "id": "RWqDHPkCrg9-"
   },
   "outputs": [
    {
     "name": "stdout",
     "output_type": "stream",
     "text": [
      "21\n"
     ]
    }
   ],
   "source": [
    "# assignment operator \n",
    "\n",
    "x = 21\n",
    "print(x)\n"
   ]
  },
  {
   "cell_type": "code",
   "execution_count": 13,
   "metadata": {
    "colab": {},
    "colab_type": "code",
    "id": "z2hJSnnFtj61"
   },
   "outputs": [
    {
     "name": "stdout",
     "output_type": "stream",
     "text": [
      "24\n"
     ]
    }
   ],
   "source": [
    "# += operator\n",
    "\n",
    "x += 3\n",
    "print(x)"
   ]
  },
  {
   "cell_type": "code",
   "execution_count": 14,
   "metadata": {
    "colab": {},
    "colab_type": "code",
    "id": "KtZ7kRbRufSO"
   },
   "outputs": [
    {
     "name": "stdout",
     "output_type": "stream",
     "text": [
      "21\n"
     ]
    }
   ],
   "source": [
    "# -= operator\n",
    "\n",
    "x -= 3\n",
    "print(x)"
   ]
  },
  {
   "cell_type": "code",
   "execution_count": 15,
   "metadata": {
    "colab": {},
    "colab_type": "code",
    "id": "FjTFdiMjuiTX"
   },
   "outputs": [
    {
     "name": "stdout",
     "output_type": "stream",
     "text": [
      "63\n"
     ]
    }
   ],
   "source": [
    "# *= operator\n",
    "\n",
    "x *= 3\n",
    "print(x)"
   ]
  },
  {
   "cell_type": "code",
   "execution_count": 16,
   "metadata": {
    "colab": {},
    "colab_type": "code",
    "id": "E6HlKtnzulaT"
   },
   "outputs": [
    {
     "name": "stdout",
     "output_type": "stream",
     "text": [
      "21.0\n"
     ]
    }
   ],
   "source": [
    "# /= operator\n",
    "\n",
    "x /= 3\n",
    "print(x)"
   ]
  },
  {
   "cell_type": "code",
   "execution_count": 17,
   "metadata": {
    "colab": {},
    "colab_type": "code",
    "id": "zG3np5y6uoOh"
   },
   "outputs": [
    {
     "name": "stdout",
     "output_type": "stream",
     "text": [
      "7.0\n"
     ]
    }
   ],
   "source": [
    "# //= operator\n",
    "\n",
    "x //= 3\n",
    "print(x)"
   ]
  },
  {
   "cell_type": "code",
   "execution_count": 18,
   "metadata": {
    "colab": {},
    "colab_type": "code",
    "id": "7rlcVC-Zu7uw"
   },
   "outputs": [
    {
     "name": "stdout",
     "output_type": "stream",
     "text": [
      "1.0\n"
     ]
    }
   ],
   "source": [
    "# %= operator\n",
    "\n",
    "x %= 3\n",
    "print(x)"
   ]
  },
  {
   "cell_type": "code",
   "execution_count": 19,
   "metadata": {},
   "outputs": [
    {
     "data": {
      "text/plain": [
       "2.5"
      ]
     },
     "execution_count": 19,
     "metadata": {},
     "output_type": "execute_result"
    }
   ],
   "source": [
    "5 / 2"
   ]
  },
  {
   "cell_type": "code",
   "execution_count": 20,
   "metadata": {},
   "outputs": [
    {
     "data": {
      "text/plain": [
       "2"
      ]
     },
     "execution_count": 20,
     "metadata": {},
     "output_type": "execute_result"
    }
   ],
   "source": [
    "5 // 2"
   ]
  },
  {
   "cell_type": "markdown",
   "metadata": {},
   "source": [
    "\n",
    "\n",
    "\n",
    "\n",
    "\n",
    "\n",
    "\n",
    "\n",
    "\n"
   ]
  }
 ],
 "metadata": {
  "colab": {
   "collapsed_sections": [
    "lpSmGhBc8LLD",
    "5o0nTXQs_wli",
    "22s4O8ASG5zi",
    "ngbp6qMB8HCp",
    "V-Ryyr41WjJa",
    "DOfHS6uMYNZz",
    "cyZwHE0NZf8h",
    "NRCc4X9t7txo",
    "lKKc8_txEZfZ",
    "AqPov5UZGKGn",
    "hznBCmMWTo-3",
    "FVEWNfE2tBmO",
    "RnXfEOFTtIlQ",
    "-BeCjQwTtksj"
   ],
   "name": "Step 1-1a. Python Foundations - 01.ipynb",
   "provenance": [],
   "toc_visible": true
  },
  "kernelspec": {
   "display_name": "Python 3 (ipykernel)",
   "language": "python",
   "name": "python3"
  },
  "language_info": {
   "codemirror_mode": {
    "name": "ipython",
    "version": 3
   },
   "file_extension": ".py",
   "mimetype": "text/x-python",
   "name": "python",
   "nbconvert_exporter": "python",
   "pygments_lexer": "ipython3",
   "version": "3.9.7"
  }
 },
 "nbformat": 4,
 "nbformat_minor": 1
}
