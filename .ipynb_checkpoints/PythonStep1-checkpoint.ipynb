{
 "cells": [
  {
   "cell_type": "markdown",
   "id": "45e8c0c9-309d-4558-806e-358025576d80",
   "metadata": {},
   "source": [
    "# First class of Python"
   ]
  },
  {
   "cell_type": "markdown",
   "id": "33688496-b92d-4b17-af9d-ddf00c563e84",
   "metadata": {},
   "source": [
    "# Heading 1"
   ]
  },
  {
   "cell_type": "code",
   "execution_count": 7,
   "id": "c344d9fb-65d6-4fbe-9472-b6551e0378ac",
   "metadata": {},
   "outputs": [
    {
     "name": "stdout",
     "output_type": "stream",
     "text": [
      "Hello World..!\n"
     ]
    }
   ],
   "source": [
    "print('Hello World..!')"
   ]
  },
  {
   "cell_type": "code",
   "execution_count": 9,
   "id": "6139780d-c2ff-4097-bb1a-18311e0b1152",
   "metadata": {},
   "outputs": [
    {
     "name": "stdout",
     "output_type": "stream",
     "text": [
      "Help on built-in function print in module builtins:\n",
      "\n",
      "print(*args, sep=' ', end='\\n', file=None, flush=False)\n",
      "    Prints the values to a stream, or to sys.stdout by default.\n",
      "\n",
      "    sep\n",
      "      string inserted between values, default a space.\n",
      "    end\n",
      "      string appended after the last value, default a newline.\n",
      "    file\n",
      "      a file-like object (stream); defaults to the current sys.stdout.\n",
      "    flush\n",
      "      whether to forcibly flush the stream.\n",
      "\n"
     ]
    }
   ],
   "source": [
    "help(print)"
   ]
  },
  {
   "cell_type": "markdown",
   "id": "de7d8ec2-6124-4a14-9d0a-1441a487e5bf",
   "metadata": {},
   "source": [
    "# Comment"
   ]
  },
  {
   "cell_type": "code",
   "execution_count": 14,
   "id": "6119f858-e6e6-4466-9d4e-79b7aeca5f7b",
   "metadata": {},
   "outputs": [
    {
     "name": "stdout",
     "output_type": "stream",
     "text": [
      "something\n"
     ]
    }
   ],
   "source": [
    "# This is a comment\n",
    "print('something') # using print function"
   ]
  },
  {
   "cell_type": "code",
   "execution_count": 16,
   "id": "c7e94d74-b3aa-4551-8331-b03a4a8be43f",
   "metadata": {},
   "outputs": [
    {
     "name": "stdout",
     "output_type": "stream",
     "text": [
      "Anything\n"
     ]
    }
   ],
   "source": [
    "'''\n",
    "this is\n",
    "a  multiline\n",
    "comment\n",
    "'''\n",
    "print('Anything')"
   ]
  },
  {
   "cell_type": "markdown",
   "id": "1e3ba781-a458-42c2-863b-8945934fdef3",
   "metadata": {},
   "source": [
    "# Variable"
   ]
  },
  {
   "cell_type": "code",
   "execution_count": 19,
   "id": "b8b2b0d2-acc7-4c5e-83f1-6020dec5a73d",
   "metadata": {},
   "outputs": [
    {
     "name": "stdout",
     "output_type": "stream",
     "text": [
      "7\n"
     ]
    }
   ],
   "source": [
    "x = 7\n",
    "print(x)"
   ]
  },
  {
   "cell_type": "code",
   "execution_count": 21,
   "id": "0781f2d8-673e-49dd-896b-fe0806e9df20",
   "metadata": {},
   "outputs": [
    {
     "name": "stdout",
     "output_type": "stream",
     "text": [
      "My age is  20\n"
     ]
    }
   ],
   "source": [
    "age = 20\n",
    "print('My age is ',age)"
   ]
  },
  {
   "cell_type": "code",
   "execution_count": 23,
   "id": "e5a72a42-37df-41e6-8b00-4e4b66740b29",
   "metadata": {},
   "outputs": [
    {
     "name": "stdout",
     "output_type": "stream",
     "text": [
      "My name is Danny\n"
     ]
    }
   ],
   "source": [
    "myName = 'Danny'\n",
    "print('My name is',myName)"
   ]
  },
  {
   "cell_type": "code",
   "execution_count": 1,
   "id": "de96fd81-30a6-440f-af5f-7eacd1937eca",
   "metadata": {
    "scrolled": true
   },
   "outputs": [
    {
     "name": "stdout",
     "output_type": "stream",
     "text": [
      "My email id is DannyRand@gmail.com\n"
     ]
    }
   ],
   "source": [
    "email = 'DannyRand@gmail.com'\n",
    "print('My email id is',email)"
   ]
  },
  {
   "cell_type": "markdown",
   "id": "dbc0f1c2-c28c-475a-9725-44d452c419f3",
   "metadata": {},
   "source": [
    "# Taking Input"
   ]
  },
  {
   "cell_type": "code",
   "execution_count": 21,
   "id": "bdc74421-6150-4272-96df-9928cff06c66",
   "metadata": {},
   "outputs": [
    {
     "name": "stdin",
     "output_type": "stream",
     "text": [
      "Enter your name:  Danny Rand\n",
      "Enter your age:  22\n"
     ]
    },
    {
     "name": "stdout",
     "output_type": "stream",
     "text": [
      "Danny Rand 22\n"
     ]
    }
   ],
   "source": [
    "# Write a python program to take name and age from user and print it.\n",
    "name = input('Enter your name: ')\n",
    "age = input('Enter your age: ')\n",
    "print(name, age)"
   ]
  },
  {
   "cell_type": "code",
   "execution_count": 29,
   "id": "4c629624-ae4f-4b57-af5b-707baf20f1ed",
   "metadata": {},
   "outputs": [
    {
     "name": "stdout",
     "output_type": "stream",
     "text": [
      "My name is Danny Rand and I am 22 years old.\n",
      "My name is Danny Rand and I am 22 years old.\n",
      "My name is Danny Rand and I am 22 years old.\n"
     ]
    }
   ],
   "source": [
    "print('My name is', name,'and I am', age,'years old.' )\n",
    "print('My name is {} and I am {} years old.'.format(name,age))\n",
    "print(f'My name is {name} and I am {age} years old.')"
   ]
  },
  {
   "cell_type": "markdown",
   "id": "7623eab9-4344-4990-9187-29c807133984",
   "metadata": {},
   "source": [
    "# Data Types\n",
    "a particular kind of data entity, defined by the values it can take\n",
    "\n",
    "Python has several built-in data types, some of them are:\n",
    "\n",
    "numeric data types\n",
    "\n",
    "text sequence data type\n",
    "\n",
    "sequence data types\n",
    "\n",
    "mapping data type\n",
    "\n",
    "boolean data type\n",
    "\n",
    "set data type\n",
    "\n",
    "the type() function is used to check the data type of something in Python"
   ]
  },
  {
   "cell_type": "code",
   "execution_count": 42,
   "id": "fbaa8742-3aac-4316-ab95-f4057faf98f1",
   "metadata": {},
   "outputs": [
    {
     "name": "stdout",
     "output_type": "stream",
     "text": [
      "5\n"
     ]
    },
    {
     "data": {
      "text/plain": [
       "int"
      ]
     },
     "execution_count": 42,
     "metadata": {},
     "output_type": "execute_result"
    }
   ],
   "source": [
    "x = 5\n",
    "print(x)\n",
    "type(x)"
   ]
  },
  {
   "cell_type": "code",
   "execution_count": 47,
   "id": "b27e380f-54e4-409b-bfda-ef92a7c9b6d1",
   "metadata": {},
   "outputs": [
    {
     "name": "stdout",
     "output_type": "stream",
     "text": [
      "5.6\n"
     ]
    },
    {
     "data": {
      "text/plain": [
       "float"
      ]
     },
     "execution_count": 47,
     "metadata": {},
     "output_type": "execute_result"
    }
   ],
   "source": [
    "y = 5.6\n",
    "print(y)\n",
    "type(y)"
   ]
  },
  {
   "cell_type": "code",
   "execution_count": 49,
   "id": "8b956c2c-30f4-4692-88fe-3474238bdb3d",
   "metadata": {},
   "outputs": [
    {
     "name": "stdout",
     "output_type": "stream",
     "text": [
      "Hello\n"
     ]
    },
    {
     "data": {
      "text/plain": [
       "str"
      ]
     },
     "execution_count": 49,
     "metadata": {},
     "output_type": "execute_result"
    }
   ],
   "source": [
    "# Strings : Sequence of Characters\n",
    "s = 'Hello'\n",
    "print(s)\n",
    "type(s)"
   ]
  },
  {
   "cell_type": "code",
   "execution_count": 51,
   "id": "a3544689-69d7-4f68-871a-57d8addfccc5",
   "metadata": {},
   "outputs": [],
   "source": [
    "# Sequence Types"
   ]
  },
  {
   "cell_type": "code",
   "execution_count": 61,
   "id": "d0b8c633-55ac-4685-907d-7fd200b374a0",
   "metadata": {},
   "outputs": [
    {
     "name": "stdout",
     "output_type": "stream",
     "text": [
      "[1, 2, 4.5, 'a', 'apple']\n",
      "<class 'list'>\n"
     ]
    },
    {
     "data": {
      "text/plain": [
       "list"
      ]
     },
     "execution_count": 61,
     "metadata": {},
     "output_type": "execute_result"
    }
   ],
   "source": [
    "# List\n",
    "li = [1,2,4.5,'a','apple']\n",
    "print(li)\n",
    "print(type(li))\n",
    "type(li)"
   ]
  },
  {
   "cell_type": "code",
   "execution_count": 55,
   "id": "b030bde9-8e55-4fb4-b561-ba949d23e812",
   "metadata": {},
   "outputs": [
    {
     "data": {
      "text/plain": [
       "['Apple', 'Mango', 'Orange', 'Pineapple']"
      ]
     },
     "execution_count": 55,
     "metadata": {},
     "output_type": "execute_result"
    }
   ],
   "source": [
    "fruits = ['Apple','Mango','Orange','Pineapple']\n",
    "fruits"
   ]
  },
  {
   "cell_type": "code",
   "execution_count": 63,
   "id": "7ad817eb-e6ac-43ed-aec8-ef256d452f55",
   "metadata": {},
   "outputs": [
    {
     "name": "stdout",
     "output_type": "stream",
     "text": [
      "4\n"
     ]
    },
    {
     "data": {
      "text/plain": [
       "5"
      ]
     },
     "execution_count": 63,
     "metadata": {},
     "output_type": "execute_result"
    }
   ],
   "source": [
    "a = 4\n",
    "b = 5\n",
    "print(a)\n",
    "b"
   ]
  },
  {
   "cell_type": "code",
   "execution_count": 71,
   "id": "a2ea53e8-1e0b-462b-9f0f-9a4a321e2687",
   "metadata": {},
   "outputs": [
    {
     "name": "stdout",
     "output_type": "stream",
     "text": [
      "(12, 3, 5.6, 'a', 'orange')\n"
     ]
    },
    {
     "data": {
      "text/plain": [
       "tuple"
      ]
     },
     "execution_count": 71,
     "metadata": {},
     "output_type": "execute_result"
    }
   ],
   "source": [
    "# Tuple\n",
    "tu = (12,3,5.6,'a','orange')\n",
    "print(tu)\n",
    "type(tu)"
   ]
  },
  {
   "cell_type": "code",
   "execution_count": 77,
   "id": "9e40160b-6042-4b7e-bae0-76c8ce533d9e",
   "metadata": {},
   "outputs": [
    {
     "name": "stdout",
     "output_type": "stream",
     "text": [
      "(1, 2, 3, 4, 'b')\n"
     ]
    },
    {
     "data": {
      "text/plain": [
       "tuple"
      ]
     },
     "execution_count": 77,
     "metadata": {},
     "output_type": "execute_result"
    }
   ],
   "source": [
    "tu = 1,2,3,4,'b'\n",
    "print(tu)\n",
    "type(tu)"
   ]
  },
  {
   "cell_type": "markdown",
   "id": "62883ff9-bc59-458f-896b-3da8618b4948",
   "metadata": {},
   "source": [
    "# range"
   ]
  },
  {
   "cell_type": "code",
   "execution_count": 84,
   "id": "5f89dcf8-47ab-4437-8df8-605ace58ded7",
   "metadata": {},
   "outputs": [
    {
     "name": "stdout",
     "output_type": "stream",
     "text": [
      "range(0, 5)\n",
      "5\n"
     ]
    },
    {
     "data": {
      "text/plain": [
       "range"
      ]
     },
     "execution_count": 84,
     "metadata": {},
     "output_type": "execute_result"
    }
   ],
   "source": [
    "r1 = range(5)\n",
    "print(r1)\n",
    "print(len(r1)) # length of the sequence type\n",
    "type(r1)"
   ]
  },
  {
   "cell_type": "code",
   "execution_count": 86,
   "id": "0bf1a02b-b51f-40a1-99d3-2d77ab1c9bb2",
   "metadata": {},
   "outputs": [
    {
     "data": {
      "text/plain": [
       "[0, 1, 2, 3, 4]"
      ]
     },
     "execution_count": 86,
     "metadata": {},
     "output_type": "execute_result"
    }
   ],
   "source": [
    "list(r1)"
   ]
  },
  {
   "cell_type": "code",
   "execution_count": 88,
   "id": "7aea58e4-aae1-4d72-8c3f-c02bf3c48501",
   "metadata": {},
   "outputs": [
    {
     "name": "stdout",
     "output_type": "stream",
     "text": [
      "range(2, 10)\n"
     ]
    },
    {
     "data": {
      "text/plain": [
       "8"
      ]
     },
     "execution_count": 88,
     "metadata": {},
     "output_type": "execute_result"
    }
   ],
   "source": [
    "r2 = range(2,10)\n",
    "print(r2)\n",
    "len(r2)"
   ]
  },
  {
   "cell_type": "code",
   "execution_count": 90,
   "id": "f4c999ba-aeac-4eb7-b9b7-d657c0298b97",
   "metadata": {},
   "outputs": [
    {
     "data": {
      "text/plain": [
       "[2, 3, 4, 5, 6, 7, 8, 9]"
      ]
     },
     "execution_count": 90,
     "metadata": {},
     "output_type": "execute_result"
    }
   ],
   "source": [
    "list(r2)"
   ]
  },
  {
   "cell_type": "code",
   "execution_count": 106,
   "id": "309878d1-dc0d-4038-8aa1-b536e470ab49",
   "metadata": {},
   "outputs": [
    {
     "name": "stdout",
     "output_type": "stream",
     "text": [
      "range(0, 20, 3)\n"
     ]
    },
    {
     "data": {
      "text/plain": [
       "[0, 3, 6, 9, 12, 15, 18]"
      ]
     },
     "execution_count": 106,
     "metadata": {},
     "output_type": "execute_result"
    }
   ],
   "source": [
    "r3 = range(0,20,3)\n",
    "print(r3)\n",
    "len(r3)\n",
    "list(r3)"
   ]
  },
  {
   "cell_type": "code",
   "execution_count": 120,
   "id": "aba7cc57-dc83-4539-abca-42132ffc3fec",
   "metadata": {},
   "outputs": [
    {
     "name": "stdout",
     "output_type": "stream",
     "text": [
      "{'a': 1, 'b': 2, 'c': 3}\n"
     ]
    },
    {
     "data": {
      "text/plain": [
       "3"
      ]
     },
     "execution_count": 120,
     "metadata": {},
     "output_type": "execute_result"
    }
   ],
   "source": [
    "# Dictionary\n",
    "d = {'a':1, 'b':2 ,'c':3}\n",
    "print(d)\n",
    "type(d)\n",
    "len(d)"
   ]
  },
  {
   "cell_type": "code",
   "execution_count": 122,
   "id": "b7f1b130-e775-48bd-874c-f64431946a66",
   "metadata": {},
   "outputs": [
    {
     "data": {
      "text/plain": [
       "{'maths': 98, 'science': 89, 'English': 78, 'Hindi': 90}"
      ]
     },
     "execution_count": 122,
     "metadata": {},
     "output_type": "execute_result"
    }
   ],
   "source": [
    "student = {'maths': 98, 'science': 89, 'English': 78, 'Hindi': 90}\n",
    "student"
   ]
  },
  {
   "cell_type": "code",
   "execution_count": 140,
   "id": "4b5bd302-7648-41c1-8f40-e060fc9dcff9",
   "metadata": {},
   "outputs": [
    {
     "name": "stdout",
     "output_type": "stream",
     "text": [
      "{1, 2, 3, 4, 5}\n"
     ]
    },
    {
     "data": {
      "text/plain": [
       "5"
      ]
     },
     "execution_count": 140,
     "metadata": {},
     "output_type": "execute_result"
    }
   ],
   "source": [
    "# Set - Unique Elements\n",
    "s = {1,2,3,4,5}\n",
    "print(s)\n",
    "type(s)\n",
    "len(s)"
   ]
  },
  {
   "cell_type": "code",
   "execution_count": 126,
   "id": "f77815b1-a41a-46f3-a1e2-a73d94c07a65",
   "metadata": {},
   "outputs": [
    {
     "data": {
      "text/plain": [
       "{'Bushra', 'Kaishik', 'Krishal'}"
      ]
     },
     "execution_count": 126,
     "metadata": {},
     "output_type": "execute_result"
    }
   ],
   "source": [
    "name_set = {'Bushra', 'Kaishik', 'Bushra', 'Krishal'}\n",
    "name_set"
   ]
  },
  {
   "cell_type": "code",
   "execution_count": 144,
   "id": "4acf8356-0f28-491c-a2c0-77907d5a08a3",
   "metadata": {},
   "outputs": [
    {
     "name": "stdout",
     "output_type": "stream",
     "text": [
      "{1, 2, 3, 4, 5, 6}\n"
     ]
    },
    {
     "data": {
      "text/plain": [
       "set"
      ]
     },
     "execution_count": 144,
     "metadata": {},
     "output_type": "execute_result"
    }
   ],
   "source": [
    "s1 = {3,4,1,1,4,2,1,5,6,3,2,3,4,2,4,5,6,3,2,1}\n",
    "print(s1)\n",
    "len(s1)\n",
    "type(s1)"
   ]
  },
  {
   "cell_type": "code",
   "execution_count": 146,
   "id": "1fb76d84-cbc9-4fd3-b520-93488c7d5bd1",
   "metadata": {},
   "outputs": [
    {
     "data": {
      "text/plain": [
       "6"
      ]
     },
     "execution_count": 146,
     "metadata": {},
     "output_type": "execute_result"
    }
   ],
   "source": [
    "len({3,4,1,1,4,2,1,5,6,3,2,3,4,2,4,5,6,3,2,1})"
   ]
  },
  {
   "cell_type": "code",
   "execution_count": 148,
   "id": "d2bffe3e-8064-439f-9dcc-e465142ce0c9",
   "metadata": {},
   "outputs": [
    {
     "data": {
      "text/plain": [
       "bool"
      ]
     },
     "execution_count": 148,
     "metadata": {},
     "output_type": "execute_result"
    }
   ],
   "source": [
    "# Boolean Type: State of Truth | True and False\n",
    "a = True\n",
    "type(a)"
   ]
  },
  {
   "cell_type": "code",
   "execution_count": 150,
   "id": "63401274-975c-4e03-8286-c149ffa33d0c",
   "metadata": {},
   "outputs": [
    {
     "data": {
      "text/plain": [
       "bool"
      ]
     },
     "execution_count": 150,
     "metadata": {},
     "output_type": "execute_result"
    }
   ],
   "source": [
    "b = False\n",
    "type(b)"
   ]
  },
  {
   "cell_type": "code",
   "execution_count": 156,
   "id": "66b041d2-77f2-49b9-84cb-37b73ab2c554",
   "metadata": {},
   "outputs": [
    {
     "data": {
      "text/plain": [
       "False"
      ]
     },
     "execution_count": 156,
     "metadata": {},
     "output_type": "execute_result"
    }
   ],
   "source": [
    "6 > 8"
   ]
  },
  {
   "cell_type": "code",
   "execution_count": 158,
   "id": "e11b56ae-8566-49fe-b94b-c3beaf064405",
   "metadata": {},
   "outputs": [
    {
     "data": {
      "text/plain": [
       "True"
      ]
     },
     "execution_count": 158,
     "metadata": {},
     "output_type": "execute_result"
    }
   ],
   "source": [
    "7 < 9"
   ]
  },
  {
   "cell_type": "code",
   "execution_count": 160,
   "id": "cad2b6a0-6523-4c73-b53d-91055bf204ca",
   "metadata": {},
   "outputs": [],
   "source": [
    "x = 5\n",
    "y = 2\n",
    "z = -12"
   ]
  },
  {
   "cell_type": "code",
   "execution_count": 162,
   "id": "ebefbcaa-9ea6-486b-a24c-51cbf1dcc7ea",
   "metadata": {},
   "outputs": [
    {
     "data": {
      "text/plain": [
       "7"
      ]
     },
     "execution_count": 162,
     "metadata": {},
     "output_type": "execute_result"
    }
   ],
   "source": [
    "x + y"
   ]
  },
  {
   "cell_type": "code",
   "execution_count": 164,
   "id": "817fab72-b836-432f-abce-b7a3e72f1477",
   "metadata": {},
   "outputs": [
    {
     "data": {
      "text/plain": [
       "3"
      ]
     },
     "execution_count": 164,
     "metadata": {},
     "output_type": "execute_result"
    }
   ],
   "source": [
    "x - y"
   ]
  },
  {
   "cell_type": "code",
   "execution_count": 166,
   "id": "d0bc6643-d2e0-4fae-a727-6ca6432c3be4",
   "metadata": {},
   "outputs": [
    {
     "data": {
      "text/plain": [
       "10"
      ]
     },
     "execution_count": 166,
     "metadata": {},
     "output_type": "execute_result"
    }
   ],
   "source": [
    "x * y"
   ]
  },
  {
   "cell_type": "code",
   "execution_count": 168,
   "id": "6b15765b-7bde-4a8b-becf-0817d5a2aaaa",
   "metadata": {},
   "outputs": [
    {
     "data": {
      "text/plain": [
       "2.5"
      ]
     },
     "execution_count": 168,
     "metadata": {},
     "output_type": "execute_result"
    }
   ],
   "source": [
    "x / y"
   ]
  },
  {
   "cell_type": "code",
   "execution_count": 170,
   "id": "67d200a5-fc81-456e-8329-ebf9e4983d10",
   "metadata": {},
   "outputs": [
    {
     "data": {
      "text/plain": [
       "2"
      ]
     },
     "execution_count": 170,
     "metadata": {},
     "output_type": "execute_result"
    }
   ],
   "source": [
    "x // y"
   ]
  },
  {
   "cell_type": "code",
   "execution_count": 172,
   "id": "c3d4d31f-44b7-40c7-a581-e612ca25b02a",
   "metadata": {},
   "outputs": [
    {
     "data": {
      "text/plain": [
       "1"
      ]
     },
     "execution_count": 172,
     "metadata": {},
     "output_type": "execute_result"
    }
   ],
   "source": [
    "x % y"
   ]
  },
  {
   "cell_type": "code",
   "execution_count": 174,
   "id": "27998e8b-bd2a-465f-86a9-1e40ef1a4b63",
   "metadata": {},
   "outputs": [
    {
     "data": {
      "text/plain": [
       "0"
      ]
     },
     "execution_count": 174,
     "metadata": {},
     "output_type": "execute_result"
    }
   ],
   "source": [
    "10 % 2"
   ]
  },
  {
   "cell_type": "code",
   "execution_count": 176,
   "id": "c2683ca8-4fbe-4839-83e7-c28e67d9b825",
   "metadata": {},
   "outputs": [
    {
     "data": {
      "text/plain": [
       "25"
      ]
     },
     "execution_count": 176,
     "metadata": {},
     "output_type": "execute_result"
    }
   ],
   "source": [
    "x ** y"
   ]
  },
  {
   "cell_type": "code",
   "execution_count": 182,
   "id": "0eea8d4d-fb90-4950-8a89-e08485d324cf",
   "metadata": {},
   "outputs": [
    {
     "data": {
      "text/plain": [
       "100000"
      ]
     },
     "execution_count": 182,
     "metadata": {},
     "output_type": "execute_result"
    }
   ],
   "source": [
    "10 ** 5"
   ]
  },
  {
   "cell_type": "code",
   "execution_count": 180,
   "id": "405b622d-1c44-4337-ad09-feb0dcd330e7",
   "metadata": {},
   "outputs": [
    {
     "data": {
      "text/plain": [
       "2.0999999999999996"
      ]
     },
     "execution_count": 180,
     "metadata": {},
     "output_type": "execute_result"
    }
   ],
   "source": [
    "10.5 % 2.1"
   ]
  },
  {
   "cell_type": "code",
   "execution_count": 184,
   "id": "d42a9831-7433-44b7-bd93-4193b8be0cb6",
   "metadata": {},
   "outputs": [
    {
     "data": {
      "text/plain": [
       "12"
      ]
     },
     "execution_count": 184,
     "metadata": {},
     "output_type": "execute_result"
    }
   ],
   "source": [
    "abs(z)"
   ]
  },
  {
   "cell_type": "code",
   "execution_count": 186,
   "id": "61d5ad32-e1ad-4a99-a763-99dcb71c7f75",
   "metadata": {},
   "outputs": [
    {
     "data": {
      "text/plain": [
       "4"
      ]
     },
     "execution_count": 186,
     "metadata": {},
     "output_type": "execute_result"
    }
   ],
   "source": [
    "round(3.7)"
   ]
  },
  {
   "cell_type": "code",
   "execution_count": 188,
   "id": "ee2f56ac-793f-4d5a-bb6f-7951d55f3b76",
   "metadata": {},
   "outputs": [
    {
     "data": {
      "text/plain": [
       "3"
      ]
     },
     "execution_count": 188,
     "metadata": {},
     "output_type": "execute_result"
    }
   ],
   "source": [
    "round(3.2)"
   ]
  },
  {
   "cell_type": "code",
   "execution_count": 190,
   "id": "798cc474-933f-4f05-a8f1-bf91a7a13bfc",
   "metadata": {},
   "outputs": [
    {
     "data": {
      "text/plain": [
       "2.35"
      ]
     },
     "execution_count": 190,
     "metadata": {},
     "output_type": "execute_result"
    }
   ],
   "source": [
    "p = 2.3456654\n",
    "round(p,2)"
   ]
  },
  {
   "cell_type": "code",
   "execution_count": 192,
   "id": "b17c89e4-0bfc-4e11-aa5a-2083279a512e",
   "metadata": {},
   "outputs": [
    {
     "data": {
      "text/plain": [
       "2.346"
      ]
     },
     "execution_count": 192,
     "metadata": {},
     "output_type": "execute_result"
    }
   ],
   "source": [
    "round(p,3)"
   ]
  },
  {
   "cell_type": "code",
   "execution_count": 194,
   "id": "51a0da96-e125-45a8-82c9-ce57b294c913",
   "metadata": {},
   "outputs": [
    {
     "data": {
      "text/plain": [
       "'0b100101'"
      ]
     },
     "execution_count": 194,
     "metadata": {},
     "output_type": "execute_result"
    }
   ],
   "source": [
    "bin(37)"
   ]
  },
  {
   "cell_type": "code",
   "execution_count": 196,
   "id": "7e400c12-2e2b-4348-9773-05ba82478198",
   "metadata": {},
   "outputs": [
    {
     "data": {
      "text/plain": [
       "'0x25'"
      ]
     },
     "execution_count": 196,
     "metadata": {},
     "output_type": "execute_result"
    }
   ],
   "source": [
    "hex(37)"
   ]
  },
  {
   "cell_type": "code",
   "execution_count": 198,
   "id": "72f0bacf-a899-4071-97a1-dec2eb8ac77b",
   "metadata": {},
   "outputs": [
    {
     "name": "stdout",
     "output_type": "stream",
     "text": [
      "38.465\n"
     ]
    }
   ],
   "source": [
    "# Area of a circle\n",
    "radius = 3.5\n",
    "pi = 3.14\n",
    "area = pi * radius ** 2\n",
    "print(area)"
   ]
  },
  {
   "cell_type": "code",
   "execution_count": 200,
   "id": "5c11ab2a-2b23-47a1-9889-1ff58ff034cf",
   "metadata": {},
   "outputs": [
    {
     "name": "stdout",
     "output_type": "stream",
     "text": [
      "Area of the circle: 38.465\n"
     ]
    }
   ],
   "source": [
    "print('Area of the circle:',area)"
   ]
  },
  {
   "cell_type": "code",
   "execution_count": 202,
   "id": "83ef2dfe-9d33-4e53-b327-9db9fab11f9e",
   "metadata": {},
   "outputs": [
    {
     "name": "stdout",
     "output_type": "stream",
     "text": [
      "Area of the circle: 38.47\n"
     ]
    }
   ],
   "source": [
    "print('Area of the circle:',round(area,2))"
   ]
  },
  {
   "cell_type": "code",
   "execution_count": 204,
   "id": "18d6212c-7e51-4a64-b206-71d87c7a90d1",
   "metadata": {},
   "outputs": [
    {
     "name": "stdin",
     "output_type": "stream",
     "text": [
      "Enter radius:  5.9\n"
     ]
    },
    {
     "name": "stdout",
     "output_type": "stream",
     "text": [
      "Area of the circle: 109.3\n"
     ]
    }
   ],
   "source": [
    "radius = float(input('Enter radius: '))\n",
    "pi = 3.14\n",
    "area = pi * radius ** 2\n",
    "print('Area of the circle:',round(area,2))"
   ]
  },
  {
   "cell_type": "code",
   "execution_count": 210,
   "id": "7130e48d-0336-4ee5-a4f2-a1f5b120b4a8",
   "metadata": {},
   "outputs": [
    {
     "name": "stdin",
     "output_type": "stream",
     "text": [
      "Enter a number for a:  5\n",
      "Enter a number for b:  4\n"
     ]
    },
    {
     "name": "stdout",
     "output_type": "stream",
     "text": [
      "9\n"
     ]
    }
   ],
   "source": [
    "a = int(input('Enter a number for a: '))\n",
    "b = int(input('Enter a number for b: '))\n",
    "print(a + b)"
   ]
  },
  {
   "cell_type": "code",
   "execution_count": 212,
   "id": "671679aa-38b1-499d-85e4-042fc6038947",
   "metadata": {},
   "outputs": [
    {
     "data": {
      "text/plain": [
       "'11'"
      ]
     },
     "execution_count": 212,
     "metadata": {},
     "output_type": "execute_result"
    }
   ],
   "source": [
    "'1'+'1'"
   ]
  },
  {
   "cell_type": "code",
   "execution_count": 214,
   "id": "90b7ccfc-905f-45be-a251-ac8d381c4692",
   "metadata": {},
   "outputs": [
    {
     "data": {
      "text/plain": [
       "'ab'"
      ]
     },
     "execution_count": 214,
     "metadata": {},
     "output_type": "execute_result"
    }
   ],
   "source": [
    "'a'+'b'"
   ]
  },
  {
   "cell_type": "code",
   "execution_count": 216,
   "id": "56d77dc5-78bd-465c-9241-d7ec2012e865",
   "metadata": {},
   "outputs": [
    {
     "ename": "TypeError",
     "evalue": "unsupported operand type(s) for -: 'str' and 'str'",
     "output_type": "error",
     "traceback": [
      "\u001b[0;31m---------------------------------------------------------------------------\u001b[0m",
      "\u001b[0;31mTypeError\u001b[0m                                 Traceback (most recent call last)",
      "Cell \u001b[0;32mIn[216], line 1\u001b[0m\n\u001b[0;32m----> 1\u001b[0m \u001b[38;5;124m'\u001b[39m\u001b[38;5;124ma\u001b[39m\u001b[38;5;124m'\u001b[39m\u001b[38;5;241m-\u001b[39m\u001b[38;5;124m'\u001b[39m\u001b[38;5;124mb\u001b[39m\u001b[38;5;124m'\u001b[39m\n",
      "\u001b[0;31mTypeError\u001b[0m: unsupported operand type(s) for -: 'str' and 'str'"
     ]
    }
   ],
   "source": [
    "'a'-'b'"
   ]
  },
  {
   "cell_type": "markdown",
   "id": "2ba80008-5d0c-443c-867f-6ea0bee9d87f",
   "metadata": {},
   "source": [
    "# Comparison Operators"
   ]
  },
  {
   "cell_type": "code",
   "execution_count": 219,
   "id": "0c642904-e2f1-40b6-a752-298eb02928e4",
   "metadata": {},
   "outputs": [
    {
     "name": "stdout",
     "output_type": "stream",
     "text": [
      "True\n"
     ]
    }
   ],
   "source": [
    "# <\n",
    "i = 3\n",
    "j = 7\n",
    "print(i < j)"
   ]
  },
  {
   "cell_type": "code",
   "execution_count": 221,
   "id": "2e850f99-3461-4cc7-9f0b-66ef85422aec",
   "metadata": {},
   "outputs": [
    {
     "data": {
      "text/plain": [
       "True"
      ]
     },
     "execution_count": 221,
     "metadata": {},
     "output_type": "execute_result"
    }
   ],
   "source": [
    "5 < 6"
   ]
  },
  {
   "cell_type": "code",
   "execution_count": 223,
   "id": "8b18c162-5c06-408a-8e56-d6b7db9bdb44",
   "metadata": {},
   "outputs": [
    {
     "data": {
      "text/plain": [
       "False"
      ]
     },
     "execution_count": 223,
     "metadata": {},
     "output_type": "execute_result"
    }
   ],
   "source": [
    "10 < 4"
   ]
  },
  {
   "cell_type": "code",
   "execution_count": 233,
   "id": "aed3bf96-2ac4-42f1-a49e-72bdf3e0780b",
   "metadata": {},
   "outputs": [
    {
     "name": "stdout",
     "output_type": "stream",
     "text": [
      "True\n",
      "False\n"
     ]
    }
   ],
   "source": [
    "# > : greater than\n",
    "i = 7\n",
    "j = 4\n",
    "print(i > j)\n",
    "print(i < j)"
   ]
  },
  {
   "cell_type": "code",
   "execution_count": 227,
   "id": "a0a25f9e-e808-4d6e-8c23-51691431252d",
   "metadata": {},
   "outputs": [
    {
     "data": {
      "text/plain": [
       "True"
      ]
     },
     "execution_count": 227,
     "metadata": {},
     "output_type": "execute_result"
    }
   ],
   "source": [
    "10>4"
   ]
  },
  {
   "cell_type": "code",
   "execution_count": 229,
   "id": "5b96c1a5-585a-46ed-9671-5930494aadf5",
   "metadata": {},
   "outputs": [
    {
     "data": {
      "text/plain": [
       "False"
      ]
     },
     "execution_count": 229,
     "metadata": {},
     "output_type": "execute_result"
    }
   ],
   "source": [
    "12>19"
   ]
  },
  {
   "cell_type": "code",
   "execution_count": 241,
   "id": "6294062e-017d-4b0a-a192-27553be4c4e3",
   "metadata": {},
   "outputs": [
    {
     "name": "stdout",
     "output_type": "stream",
     "text": [
      "True\n",
      "False\n"
     ]
    }
   ],
   "source": [
    "# <= : less than or equal to\n",
    "i = 3\n",
    "j = 7\n",
    "print(i <= j)\n",
    "print(j <= i)"
   ]
  },
  {
   "cell_type": "code",
   "execution_count": 245,
   "id": "cf580729-f839-411c-a1ac-bf1994d1180f",
   "metadata": {},
   "outputs": [
    {
     "name": "stdout",
     "output_type": "stream",
     "text": [
      "True\n",
      "False\n"
     ]
    }
   ],
   "source": [
    "# >= : greater than or equal to\n",
    "i = 9\n",
    "j = 7\n",
    "print(i >= j)\n",
    "print(j >= i)"
   ]
  },
  {
   "cell_type": "code",
   "execution_count": 247,
   "id": "dc6015d0-73f6-4b8e-9c49-160da178e06b",
   "metadata": {},
   "outputs": [
    {
     "name": "stdout",
     "output_type": "stream",
     "text": [
      "True\n"
     ]
    }
   ],
   "source": [
    "# == : equality operatorar\n",
    "i = 4\n",
    "j = 4\n",
    "print(i == j)"
   ]
  },
  {
   "cell_type": "code",
   "execution_count": 249,
   "id": "bbf5691a-5c01-41f4-8a3c-68eb0f6e1174",
   "metadata": {},
   "outputs": [
    {
     "name": "stdout",
     "output_type": "stream",
     "text": [
      "True\n"
     ]
    }
   ],
   "source": [
    "# != : not equal to\n",
    "i = 3\n",
    "j = 7\n",
    "print(i != j)"
   ]
  },
  {
   "cell_type": "markdown",
   "id": "4284504d-58cd-460f-a526-1a692a56fa4a",
   "metadata": {},
   "source": [
    "#  Assignment Operator"
   ]
  },
  {
   "cell_type": "code",
   "execution_count": 315,
   "id": "82af7c48-541f-4026-86ca-e4f7b049d657",
   "metadata": {},
   "outputs": [
    {
     "name": "stdout",
     "output_type": "stream",
     "text": [
      "2\n"
     ]
    }
   ],
   "source": [
    "a = 2\n",
    "print(a)"
   ]
  },
  {
   "cell_type": "code",
   "execution_count": 317,
   "id": "abbd9343-3ade-48f3-a89f-08ea6976e202",
   "metadata": {},
   "outputs": [
    {
     "data": {
      "text/plain": [
       "3"
      ]
     },
     "execution_count": 317,
     "metadata": {},
     "output_type": "execute_result"
    }
   ],
   "source": [
    "a=a+1\n",
    "a"
   ]
  },
  {
   "cell_type": "code",
   "execution_count": 319,
   "id": "3609cbda-eab7-49d8-b00c-f23c2bd17579",
   "metadata": {},
   "outputs": [
    {
     "name": "stdout",
     "output_type": "stream",
     "text": [
      "4\n"
     ]
    }
   ],
   "source": [
    "a+=1\n",
    "print(a)"
   ]
  },
  {
   "cell_type": "code",
   "execution_count": 321,
   "id": "7d293e4b-dc28-4c5a-a1e8-31d22021ab94",
   "metadata": {},
   "outputs": [
    {
     "data": {
      "text/plain": [
       "3"
      ]
     },
     "execution_count": 321,
     "metadata": {},
     "output_type": "execute_result"
    }
   ],
   "source": [
    "a-=1\n",
    "a"
   ]
  },
  {
   "cell_type": "code",
   "execution_count": 323,
   "id": "864feb15-bb04-48a5-a83a-da8aabca9b3e",
   "metadata": {},
   "outputs": [
    {
     "data": {
      "text/plain": [
       "6"
      ]
     },
     "execution_count": 323,
     "metadata": {},
     "output_type": "execute_result"
    }
   ],
   "source": [
    "a*=2\n",
    "a"
   ]
  },
  {
   "cell_type": "code",
   "execution_count": 325,
   "id": "0b11fa65-8e6b-4dfb-9bb9-478e9bc43af4",
   "metadata": {},
   "outputs": [
    {
     "data": {
      "text/plain": [
       "2.0"
      ]
     },
     "execution_count": 325,
     "metadata": {},
     "output_type": "execute_result"
    }
   ],
   "source": [
    "a/=3\n",
    "a"
   ]
  },
  {
   "cell_type": "code",
   "execution_count": 339,
   "id": "b2fefcfe-63dc-4507-aaac-621aa9f0e6fc",
   "metadata": {},
   "outputs": [
    {
     "data": {
      "text/plain": [
       "3"
      ]
     },
     "execution_count": 339,
     "metadata": {},
     "output_type": "execute_result"
    }
   ],
   "source": [
    "b = 21\n",
    "b //= 7\n",
    "b"
   ]
  },
  {
   "cell_type": "code",
   "execution_count": 347,
   "id": "0d40a9a3-6aed-4849-b3af-f415f38d88a2",
   "metadata": {},
   "outputs": [
    {
     "data": {
      "text/plain": [
       "1"
      ]
     },
     "execution_count": 347,
     "metadata": {},
     "output_type": "execute_result"
    }
   ],
   "source": [
    "c = 21\n",
    "c %= 4\n",
    "c"
   ]
  },
  {
   "cell_type": "code",
   "execution_count": 353,
   "id": "ba67175f-72dd-4038-9412-bfb594cae411",
   "metadata": {},
   "outputs": [
    {
     "data": {
      "text/plain": [
       "9"
      ]
     },
     "execution_count": 353,
     "metadata": {},
     "output_type": "execute_result"
    }
   ],
   "source": [
    "b = 3\n",
    "b **= 2\n",
    "b"
   ]
  },
  {
   "cell_type": "markdown",
   "id": "8f1b409b-0d6a-40b4-88a5-01f57b7dbcaa",
   "metadata": {},
   "source": [
    "# Logical Operator\n",
    "and\n",
    "\n",
    "or\n",
    "\n",
    "not"
   ]
  },
  {
   "cell_type": "code",
   "execution_count": 360,
   "id": "09a69108-d65d-4222-9d66-43ec3480b4ae",
   "metadata": {},
   "outputs": [
    {
     "name": "stdout",
     "output_type": "stream",
     "text": [
      "False\n",
      "True\n"
     ]
    }
   ],
   "source": [
    "a = True\n",
    "print(not a)\n",
    "b = False\n",
    "print(not b)"
   ]
  },
  {
   "cell_type": "code",
   "execution_count": 362,
   "id": "7dd9e226-7a27-4b20-a309-18ff75b68a5f",
   "metadata": {},
   "outputs": [
    {
     "name": "stdout",
     "output_type": "stream",
     "text": [
      "True\n",
      "True\n"
     ]
    }
   ],
   "source": [
    "a = True\n",
    "b = True\n",
    "print(a and b)\n",
    "print(a or b)"
   ]
  },
  {
   "cell_type": "code",
   "execution_count": 364,
   "id": "854ec9cc-2125-49d4-988c-661685d5137c",
   "metadata": {},
   "outputs": [
    {
     "name": "stdout",
     "output_type": "stream",
     "text": [
      "False\n",
      "True\n"
     ]
    }
   ],
   "source": [
    "a = True\n",
    "b = False\n",
    "print(a and b)\n",
    "print(a or b)"
   ]
  },
  {
   "cell_type": "code",
   "execution_count": 366,
   "id": "26cf6ef7-d62a-4f6d-b13a-7b83f36e4555",
   "metadata": {},
   "outputs": [
    {
     "name": "stdin",
     "output_type": "stream",
     "text": [
      "Enter radius:  3.5\n"
     ]
    },
    {
     "name": "stdout",
     "output_type": "stream",
     "text": [
      "Area of the circle: 38.47\n",
      "True\n"
     ]
    }
   ],
   "source": [
    "# Check whether the area of the circle lies between 20 and 50 0r not.\n",
    "radius = float(input('Enter radius: '))\n",
    "pi = 3.14\n",
    "area = pi * radius ** 2\n",
    "print('Area of the circle:',round(area,2))\n",
    "print(area >= 20 and area <= 50)"
   ]
  },
  {
   "cell_type": "markdown",
   "id": "00d6a614-ae8f-4869-94e1-df6029972ff8",
   "metadata": {},
   "source": [
    "# Membership Operators\n",
    "in \n",
    "\n",
    "not in"
   ]
  },
  {
   "cell_type": "code",
   "execution_count": 369,
   "id": "bd4312fc-ea94-45d6-9982-c257590d544e",
   "metadata": {},
   "outputs": [],
   "source": [
    "avengers = ['Thor','Iron Man','Captain America','Black widow','Spiderman']"
   ]
  },
  {
   "cell_type": "code",
   "execution_count": 371,
   "id": "e92cb376-239b-407e-80c4-05fb20c0a694",
   "metadata": {},
   "outputs": [
    {
     "data": {
      "text/plain": [
       "True"
      ]
     },
     "execution_count": 371,
     "metadata": {},
     "output_type": "execute_result"
    }
   ],
   "source": [
    "'Thor' in avengers"
   ]
  },
  {
   "cell_type": "code",
   "execution_count": 373,
   "id": "5dd9f45e-ac9b-4cd4-ac31-bbbe649a0f2f",
   "metadata": {},
   "outputs": [
    {
     "data": {
      "text/plain": [
       "False"
      ]
     },
     "execution_count": 373,
     "metadata": {},
     "output_type": "execute_result"
    }
   ],
   "source": [
    "'Iron man' in avengers"
   ]
  },
  {
   "cell_type": "code",
   "execution_count": 375,
   "id": "c8dfb3a6-3fd3-4929-b4c0-2cfc19c41624",
   "metadata": {},
   "outputs": [
    {
     "data": {
      "text/plain": [
       "False"
      ]
     },
     "execution_count": 375,
     "metadata": {},
     "output_type": "execute_result"
    }
   ],
   "source": [
    "'Hulk' in avengers"
   ]
  },
  {
   "cell_type": "code",
   "execution_count": 377,
   "id": "0111982f-7455-4fc8-bb30-6b1882d7755c",
   "metadata": {},
   "outputs": [
    {
     "data": {
      "text/plain": [
       "True"
      ]
     },
     "execution_count": 377,
     "metadata": {},
     "output_type": "execute_result"
    }
   ],
   "source": [
    "s = 'hello'\n",
    "'o' in s\n"
   ]
  },
  {
   "cell_type": "code",
   "execution_count": 379,
   "id": "f9500ef3-d21e-4d37-a45a-eb7fd6d40fa5",
   "metadata": {},
   "outputs": [
    {
     "data": {
      "text/plain": [
       "False"
      ]
     },
     "execution_count": 379,
     "metadata": {},
     "output_type": "execute_result"
    }
   ],
   "source": [
    "'i' in s"
   ]
  },
  {
   "cell_type": "code",
   "execution_count": 381,
   "id": "8d561259-72ec-403d-80f1-f4f48379cbfa",
   "metadata": {},
   "outputs": [
    {
     "data": {
      "text/plain": [
       "True"
      ]
     },
     "execution_count": 381,
     "metadata": {},
     "output_type": "execute_result"
    }
   ],
   "source": [
    "'a' not in s"
   ]
  },
  {
   "cell_type": "markdown",
   "id": "8361f549-2946-41a5-be75-8d9c1ef1470b",
   "metadata": {},
   "source": [
    "# Identity Operator\n",
    "\n",
    "is\n",
    "\n",
    "not is"
   ]
  },
  {
   "cell_type": "code",
   "execution_count": 385,
   "id": "f864902b-1642-43ec-b448-dea617868743",
   "metadata": {},
   "outputs": [],
   "source": [
    "x = ['Apple','Orange']\n",
    "y = ['Apple','Orange']\n",
    "z = x"
   ]
  },
  {
   "cell_type": "code",
   "execution_count": 387,
   "id": "442a8933-db20-4c17-a77a-365817f9dbdb",
   "metadata": {},
   "outputs": [
    {
     "data": {
      "text/plain": [
       "False"
      ]
     },
     "execution_count": 387,
     "metadata": {},
     "output_type": "execute_result"
    }
   ],
   "source": [
    "x is y"
   ]
  },
  {
   "cell_type": "code",
   "execution_count": 389,
   "id": "281e44e0-050b-4699-ad13-2e6b284701df",
   "metadata": {},
   "outputs": [
    {
     "data": {
      "text/plain": [
       "True"
      ]
     },
     "execution_count": 389,
     "metadata": {},
     "output_type": "execute_result"
    }
   ],
   "source": [
    "x is not y"
   ]
  },
  {
   "cell_type": "code",
   "execution_count": 391,
   "id": "abf4b0ba-d74c-40b1-9c77-25df54a44e71",
   "metadata": {},
   "outputs": [
    {
     "data": {
      "text/plain": [
       "['Apple', 'Orange']"
      ]
     },
     "execution_count": 391,
     "metadata": {},
     "output_type": "execute_result"
    }
   ],
   "source": [
    "x"
   ]
  },
  {
   "cell_type": "code",
   "execution_count": 393,
   "id": "7c077bc0-01cc-4b5c-9662-072f2acd9668",
   "metadata": {},
   "outputs": [
    {
     "data": {
      "text/plain": [
       "['Apple', 'Orange']"
      ]
     },
     "execution_count": 393,
     "metadata": {},
     "output_type": "execute_result"
    }
   ],
   "source": [
    "y"
   ]
  },
  {
   "cell_type": "code",
   "execution_count": 395,
   "id": "6dd0a735-a351-4f6f-8116-5ba9ba511d4b",
   "metadata": {},
   "outputs": [
    {
     "data": {
      "text/plain": [
       "'Apple'"
      ]
     },
     "execution_count": 395,
     "metadata": {},
     "output_type": "execute_result"
    }
   ],
   "source": [
    "z[0]"
   ]
  },
  {
   "cell_type": "code",
   "execution_count": 397,
   "id": "7c389cff-448a-4d5f-844a-5c33d685140f",
   "metadata": {},
   "outputs": [],
   "source": [
    "z[0] = 'Pineapple'"
   ]
  },
  {
   "cell_type": "code",
   "execution_count": 399,
   "id": "2053eb58-5aa9-44ed-bc96-5041576becf3",
   "metadata": {},
   "outputs": [
    {
     "data": {
      "text/plain": [
       "['Pineapple', 'Orange']"
      ]
     },
     "execution_count": 399,
     "metadata": {},
     "output_type": "execute_result"
    }
   ],
   "source": [
    "z"
   ]
  },
  {
   "cell_type": "code",
   "execution_count": 401,
   "id": "fcea2ee4-5e6f-420d-b6e0-31278e5d0ca3",
   "metadata": {},
   "outputs": [
    {
     "data": {
      "text/plain": [
       "['Pineapple', 'Banana']"
      ]
     },
     "execution_count": 401,
     "metadata": {},
     "output_type": "execute_result"
    }
   ],
   "source": [
    "x[1] = 'Banana'\n",
    "x"
   ]
  },
  {
   "cell_type": "code",
   "execution_count": 403,
   "id": "b8c5b2d9-3518-4dd7-9668-286f9ce83f9a",
   "metadata": {},
   "outputs": [
    {
     "data": {
      "text/plain": [
       "['Pineapple', 'Banana']"
      ]
     },
     "execution_count": 403,
     "metadata": {},
     "output_type": "execute_result"
    }
   ],
   "source": [
    "z"
   ]
  },
  {
   "cell_type": "code",
   "execution_count": 405,
   "id": "e20fd5d6-801d-4dad-971b-761cf0192c6b",
   "metadata": {},
   "outputs": [
    {
     "data": {
      "text/plain": [
       "'Banana'"
      ]
     },
     "execution_count": 405,
     "metadata": {},
     "output_type": "execute_result"
    }
   ],
   "source": [
    "x[1]"
   ]
  },
  {
   "cell_type": "code",
   "execution_count": 407,
   "id": "caa5f108-2b89-4c19-a2d6-ba92fef612ec",
   "metadata": {},
   "outputs": [
    {
     "data": {
      "text/plain": [
       "['Pineapple', 'Banana']"
      ]
     },
     "execution_count": 407,
     "metadata": {},
     "output_type": "execute_result"
    }
   ],
   "source": [
    "x"
   ]
  },
  {
   "cell_type": "code",
   "execution_count": 409,
   "id": "e7fe8465-7d8c-4837-89e6-0a43c0ab2d9c",
   "metadata": {},
   "outputs": [
    {
     "name": "stdout",
     "output_type": "stream",
     "text": [
      "3\n",
      "<class 'int'>\n",
      "3.0\n",
      "<class 'float'>\n"
     ]
    }
   ],
   "source": [
    "# convert int to float\n",
    "x = 3\n",
    "print(x)\n",
    "print(type(x))\n",
    "\n",
    "y = float(x)\n",
    "print(y)\n",
    "print(type(y))"
   ]
  },
  {
   "cell_type": "code",
   "execution_count": null,
   "id": "866eea7f-9812-4d6f-aefd-bf18773a6cfd",
   "metadata": {},
   "outputs": [],
   "source": [
    "# convert float to int\n",
    "y = 56.213\n",
    "print(y)\n",
    "print(type(y))\n",
    "\n",
    "z = int(y)\n",
    "print(z)\n",
    "print(type(z))"
   ]
  }
 ],
 "metadata": {
  "kernelspec": {
   "display_name": "Python 3 (ipykernel)",
   "language": "python",
   "name": "python3"
  },
  "language_info": {
   "codemirror_mode": {
    "name": "ipython",
    "version": 3
   },
   "file_extension": ".py",
   "mimetype": "text/x-python",
   "name": "python",
   "nbconvert_exporter": "python",
   "pygments_lexer": "ipython3",
   "version": "3.12.4"
  }
 },
 "nbformat": 4,
 "nbformat_minor": 5
}
