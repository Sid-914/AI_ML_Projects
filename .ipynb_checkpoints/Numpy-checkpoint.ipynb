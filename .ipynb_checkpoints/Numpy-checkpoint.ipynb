{
 "cells": [
  {
   "cell_type": "markdown",
   "id": "4406c242",
   "metadata": {},
   "source": [
    "### Numpy\n",
    "NumPy stands for \"Numerical Python\". It provides fast and efficient array operations of homogeneous data. It can perform typical numerical calculations on multidimensional arrays along with some other sophisticated functions. It provides ease working with linear algebra and carrying out complex calculations like Matrix inversion, Fourier Transfer, etc.\n",
    "\n",
    "Lets see, How NumPy different from lists:\n",
    "\n",
    "NumPy supports vectorized operations such as element-wise addition, substraction, etc which is not the case with basic lists."
   ]
  },
  {
   "cell_type": "code",
   "execution_count": 1,
   "id": "d97a86e3",
   "metadata": {},
   "outputs": [
    {
     "name": "stdout",
     "output_type": "stream",
     "text": [
      "[1, 2, 3, 4, 5, 6, 7, 8]\n"
     ]
    }
   ],
   "source": [
    "l1 = [1,2,3,4]\n",
    "l2 = [5,6,7,8]\n",
    "print(l1 + l2)"
   ]
  },
  {
   "cell_type": "code",
   "execution_count": 2,
   "id": "74306512",
   "metadata": {},
   "outputs": [
    {
     "data": {
      "text/plain": [
       "[1, 2, 3, 4, 1, 2, 3, 4, 1, 2, 3, 4]"
      ]
     },
     "execution_count": 2,
     "metadata": {},
     "output_type": "execute_result"
    }
   ],
   "source": [
    "l1 * 3"
   ]
  },
  {
   "cell_type": "code",
   "execution_count": 3,
   "id": "109d4a67",
   "metadata": {},
   "outputs": [],
   "source": [
    "import numpy as np"
   ]
  },
  {
   "cell_type": "code",
   "execution_count": 4,
   "id": "c8ec081d",
   "metadata": {},
   "outputs": [
    {
     "name": "stdout",
     "output_type": "stream",
     "text": [
      "[ 6  8 10 12]\n"
     ]
    }
   ],
   "source": [
    "arr1 = np.array(l1)\n",
    "arr2 = np.array(l2)\n",
    "print(arr1 + arr2)"
   ]
  },
  {
   "cell_type": "code",
   "execution_count": 5,
   "id": "21b5005b",
   "metadata": {},
   "outputs": [
    {
     "data": {
      "text/plain": [
       "array([-4, -4, -4, -4])"
      ]
     },
     "execution_count": 5,
     "metadata": {},
     "output_type": "execute_result"
    }
   ],
   "source": [
    "arr1 - arr2"
   ]
  },
  {
   "cell_type": "code",
   "execution_count": 6,
   "id": "0c300a80",
   "metadata": {},
   "outputs": [
    {
     "data": {
      "text/plain": [
       "array([ 5, 12, 21, 32])"
      ]
     },
     "execution_count": 6,
     "metadata": {},
     "output_type": "execute_result"
    }
   ],
   "source": [
    "arr1 * arr2"
   ]
  },
  {
   "cell_type": "code",
   "execution_count": 7,
   "id": "9ccf9578",
   "metadata": {},
   "outputs": [
    {
     "data": {
      "text/plain": [
       "array([1, 2, 3, 4])"
      ]
     },
     "execution_count": 7,
     "metadata": {},
     "output_type": "execute_result"
    }
   ],
   "source": [
    "arr = np.array([1,2,3,4])\n",
    "arr"
   ]
  },
  {
   "cell_type": "code",
   "execution_count": 8,
   "id": "bbdee837",
   "metadata": {},
   "outputs": [
    {
     "name": "stdout",
     "output_type": "stream",
     "text": [
      "<class 'numpy.ndarray'>\n"
     ]
    }
   ],
   "source": [
    "print(type(arr))"
   ]
  },
  {
   "cell_type": "code",
   "execution_count": 9,
   "id": "cda923fa",
   "metadata": {},
   "outputs": [
    {
     "data": {
      "text/plain": [
       "array([11, 12, 13, 14])"
      ]
     },
     "execution_count": 9,
     "metadata": {},
     "output_type": "execute_result"
    }
   ],
   "source": [
    "arr + 10"
   ]
  },
  {
   "cell_type": "code",
   "execution_count": 10,
   "id": "fbb65876",
   "metadata": {},
   "outputs": [
    {
     "data": {
      "text/plain": [
       "array([ 3,  6,  9, 12])"
      ]
     },
     "execution_count": 10,
     "metadata": {},
     "output_type": "execute_result"
    }
   ],
   "source": [
    "arr * 3"
   ]
  },
  {
   "cell_type": "markdown",
   "id": "719a0055",
   "metadata": {},
   "source": [
    "# Numpy Object Creation:\n",
    "Calculations using NumPy are peeformed using nd-array (n-dimensional array) object which can take any number of dimensions."
   ]
  },
  {
   "cell_type": "code",
   "execution_count": 20,
   "id": "3126a087",
   "metadata": {},
   "outputs": [
    {
     "name": "stdout",
     "output_type": "stream",
     "text": [
      "[1 2 3 4]\n",
      "-------\n",
      "[[1 2 3 4]\n",
      " [5 6 7 8]]\n"
     ]
    }
   ],
   "source": [
    "a = np.array([1,2,3,4])\n",
    "b = np.array([[1,2,3,4],[5,6,7,8]])\n",
    "print(a)\n",
    "print('-------')\n",
    "print(b)"
   ]
  },
  {
   "cell_type": "markdown",
   "id": "87741c1c",
   "metadata": {},
   "source": [
    "#### Shape:"
   ]
  },
  {
   "cell_type": "code",
   "execution_count": 21,
   "id": "53d2aac5",
   "metadata": {},
   "outputs": [
    {
     "name": "stdout",
     "output_type": "stream",
     "text": [
      "(4,)\n"
     ]
    }
   ],
   "source": [
    "print(a.shape)"
   ]
  },
  {
   "cell_type": "code",
   "execution_count": 22,
   "id": "e4102471",
   "metadata": {},
   "outputs": [
    {
     "name": "stdout",
     "output_type": "stream",
     "text": [
      "(2, 4)\n"
     ]
    }
   ],
   "source": [
    "print(b.shape)"
   ]
  },
  {
   "cell_type": "markdown",
   "id": "ee1113e7",
   "metadata": {},
   "source": [
    "#### Dimension:"
   ]
  },
  {
   "cell_type": "code",
   "execution_count": 23,
   "id": "b2302cdf",
   "metadata": {},
   "outputs": [
    {
     "name": "stdout",
     "output_type": "stream",
     "text": [
      "1\n"
     ]
    }
   ],
   "source": [
    "print(a.ndim)"
   ]
  },
  {
   "cell_type": "code",
   "execution_count": 24,
   "id": "a7b99442",
   "metadata": {},
   "outputs": [
    {
     "name": "stdout",
     "output_type": "stream",
     "text": [
      "2\n"
     ]
    }
   ],
   "source": [
    "print(b.ndim)"
   ]
  },
  {
   "cell_type": "code",
   "execution_count": 25,
   "id": "652e6bf1",
   "metadata": {},
   "outputs": [
    {
     "data": {
      "text/plain": [
       "dtype('int32')"
      ]
     },
     "execution_count": 25,
     "metadata": {},
     "output_type": "execute_result"
    }
   ],
   "source": [
    "a.dtype"
   ]
  },
  {
   "cell_type": "code",
   "execution_count": 26,
   "id": "642ca176",
   "metadata": {},
   "outputs": [
    {
     "data": {
      "text/plain": [
       "dtype('int32')"
      ]
     },
     "execution_count": 26,
     "metadata": {},
     "output_type": "execute_result"
    }
   ],
   "source": [
    "b.dtype"
   ]
  },
  {
   "cell_type": "markdown",
   "id": "7ab578f0",
   "metadata": {},
   "source": [
    "## Matrix Creation:\n",
    "\n",
    "Moving ahead let's learn creation of a matrix using NumPy. There are three methods:\n",
    "\n",
    "**Method 1**: Using NumPy array to form a matrix.\n",
    "\n",
    "**Method 2**: Using NumPy's inbuilt matrix function.\n",
    "\n",
    "**Method 3**: Using miscellaneois functions such as zeros(), ones(), etc."
   ]
  },
  {
   "cell_type": "markdown",
   "id": "89d94ddf",
   "metadata": {},
   "source": [
    "* Method 1: Using array and reshape to convert array into matrix"
   ]
  },
  {
   "cell_type": "code",
   "execution_count": 27,
   "id": "10e8044c",
   "metadata": {},
   "outputs": [
    {
     "data": {
      "text/plain": [
       "array([ 5, 12, 32, 54, 21, 24])"
      ]
     },
     "execution_count": 27,
     "metadata": {},
     "output_type": "execute_result"
    }
   ],
   "source": [
    "np.array([5,12,32,54,21,24])"
   ]
  },
  {
   "cell_type": "code",
   "execution_count": 28,
   "id": "dc0897e5",
   "metadata": {},
   "outputs": [
    {
     "data": {
      "text/plain": [
       "array([[ 5, 12, 32],\n",
       "       [54, 21, 24]])"
      ]
     },
     "execution_count": 28,
     "metadata": {},
     "output_type": "execute_result"
    }
   ],
   "source": [
    "np.array([5,12,32,54,21,24]).reshape(2,3)"
   ]
  },
  {
   "cell_type": "code",
   "execution_count": 29,
   "id": "74c5086e",
   "metadata": {},
   "outputs": [
    {
     "data": {
      "text/plain": [
       "array([[ 5, 12],\n",
       "       [32, 54],\n",
       "       [21, 24]])"
      ]
     },
     "execution_count": 29,
     "metadata": {},
     "output_type": "execute_result"
    }
   ],
   "source": [
    "np.array([5,12,32,54,21,24]).reshape(3,2)"
   ]
  },
  {
   "cell_type": "markdown",
   "id": "ee1050db",
   "metadata": {},
   "source": [
    "* Method II: Using matrix function"
   ]
  },
  {
   "cell_type": "code",
   "execution_count": 30,
   "id": "27cba136",
   "metadata": {},
   "outputs": [
    {
     "data": {
      "text/plain": [
       "matrix([[1, 2],\n",
       "        [3, 4]])"
      ]
     },
     "execution_count": 30,
     "metadata": {},
     "output_type": "execute_result"
    }
   ],
   "source": [
    "n = np.matrix([[1,2],[3,4]])\n",
    "n"
   ]
  },
  {
   "cell_type": "code",
   "execution_count": 31,
   "id": "903485f1",
   "metadata": {},
   "outputs": [
    {
     "name": "stdout",
     "output_type": "stream",
     "text": [
      "[[1 2 3]\n",
      " [3 4 5]]\n"
     ]
    },
    {
     "data": {
      "text/plain": [
       "(2, 3)"
      ]
     },
     "execution_count": 31,
     "metadata": {},
     "output_type": "execute_result"
    }
   ],
   "source": [
    "p = np.matrix([[1,2,3],[3,4,5]])\n",
    "print(p)\n",
    "p.shape"
   ]
  },
  {
   "cell_type": "code",
   "execution_count": 32,
   "id": "5f4cda3f",
   "metadata": {},
   "outputs": [
    {
     "data": {
      "text/plain": [
       "matrix([[1, 2],\n",
       "        [3, 3],\n",
       "        [4, 5]])"
      ]
     },
     "execution_count": 32,
     "metadata": {},
     "output_type": "execute_result"
    }
   ],
   "source": [
    "p.reshape(3,2)"
   ]
  },
  {
   "cell_type": "markdown",
   "id": "7c33156e",
   "metadata": {},
   "source": [
    "* Method III: Using misc. functions"
   ]
  },
  {
   "cell_type": "code",
   "execution_count": 33,
   "id": "ce4d3b6b",
   "metadata": {},
   "outputs": [
    {
     "data": {
      "text/plain": [
       "array([[1., 0., 0.],\n",
       "       [0., 1., 0.],\n",
       "       [0., 0., 1.]])"
      ]
     },
     "execution_count": 33,
     "metadata": {},
     "output_type": "execute_result"
    }
   ],
   "source": [
    "np.eye(3) # Identity matrix"
   ]
  },
  {
   "cell_type": "code",
   "execution_count": 34,
   "id": "c37670e5",
   "metadata": {},
   "outputs": [
    {
     "data": {
      "text/plain": [
       "array([[0., 0., 0.],\n",
       "       [0., 0., 0.],\n",
       "       [0., 0., 0.],\n",
       "       [0., 0., 0.]])"
      ]
     },
     "execution_count": 34,
     "metadata": {},
     "output_type": "execute_result"
    }
   ],
   "source": [
    "np.zeros((4,3))"
   ]
  },
  {
   "cell_type": "code",
   "execution_count": 41,
   "id": "e93015bf",
   "metadata": {},
   "outputs": [
    {
     "data": {
      "text/plain": [
       "array([[1, 1, 1],\n",
       "       [1, 1, 1],\n",
       "       [1, 1, 1]], dtype=int8)"
      ]
     },
     "execution_count": 41,
     "metadata": {},
     "output_type": "execute_result"
    }
   ],
   "source": [
    "q = np.ones((3,3),dtype=np.int8)\n",
    "q"
   ]
  },
  {
   "cell_type": "code",
   "execution_count": 36,
   "id": "0a9ae59b",
   "metadata": {},
   "outputs": [
    {
     "data": {
      "text/plain": [
       "dtype('int32')"
      ]
     },
     "execution_count": 36,
     "metadata": {},
     "output_type": "execute_result"
    }
   ],
   "source": [
    "q.dtype"
   ]
  },
  {
   "cell_type": "markdown",
   "id": "4ae6fb3d",
   "metadata": {},
   "source": [
    "arange()"
   ]
  },
  {
   "cell_type": "code",
   "execution_count": 37,
   "id": "c76af516",
   "metadata": {},
   "outputs": [
    {
     "data": {
      "text/plain": [
       "array([ 1,  2,  3,  4,  5,  6,  7,  8,  9, 10, 11, 12, 13, 14, 15, 16, 17,\n",
       "       18, 19])"
      ]
     },
     "execution_count": 37,
     "metadata": {},
     "output_type": "execute_result"
    }
   ],
   "source": [
    "np.arange(1,20)"
   ]
  },
  {
   "cell_type": "code",
   "execution_count": 38,
   "id": "8c4a235d",
   "metadata": {},
   "outputs": [
    {
     "data": {
      "text/plain": [
       "array([ 1,  3,  5,  7,  9, 11, 13, 15, 17, 19])"
      ]
     },
     "execution_count": 38,
     "metadata": {},
     "output_type": "execute_result"
    }
   ],
   "source": [
    "np.arange(1,20,2)"
   ]
  },
  {
   "cell_type": "markdown",
   "id": "6c53d35c",
   "metadata": {},
   "source": [
    "##### Practice Exercise\n",
    "1. Store the marks and IDs of three students as NumPy arrays. The marks are [20, 30, 40] and IDs are [0,2,4]. Store array for marks in a variable marks and the one for IDs in another variable ids. Display both marks and ids."
   ]
  },
  {
   "cell_type": "code",
   "execution_count": 42,
   "id": "93467884",
   "metadata": {},
   "outputs": [
    {
     "name": "stdout",
     "output_type": "stream",
     "text": [
      "Marks: [20 30 40]\n",
      "IDs: [0 2 4]\n"
     ]
    }
   ],
   "source": [
    "marks = np.array([20,30,40])\n",
    "ids = np.array([0,2,4])\n",
    "print('Marks:',marks)\n",
    "print('IDs:',ids)"
   ]
  },
  {
   "cell_type": "markdown",
   "id": "667cade5",
   "metadata": {},
   "source": [
    "### Indexing and Slicing:"
   ]
  },
  {
   "cell_type": "code",
   "execution_count": 43,
   "id": "0ef16bb2",
   "metadata": {},
   "outputs": [
    {
     "data": {
      "text/plain": [
       "array([[1, 2, 3],\n",
       "       [4, 5, 6],\n",
       "       [7, 8, 9]])"
      ]
     },
     "execution_count": 43,
     "metadata": {},
     "output_type": "execute_result"
    }
   ],
   "source": [
    "a = np.array([[1,2,3],[4,5,6],[7,8,9]])\n",
    "a"
   ]
  },
  {
   "cell_type": "code",
   "execution_count": 44,
   "id": "deb113e7",
   "metadata": {},
   "outputs": [
    {
     "data": {
      "text/plain": [
       "array([1, 2, 3])"
      ]
     },
     "execution_count": 44,
     "metadata": {},
     "output_type": "execute_result"
    }
   ],
   "source": [
    "a[0]"
   ]
  },
  {
   "cell_type": "code",
   "execution_count": 45,
   "id": "589e6c8a",
   "metadata": {},
   "outputs": [
    {
     "data": {
      "text/plain": [
       "8"
      ]
     },
     "execution_count": 45,
     "metadata": {},
     "output_type": "execute_result"
    }
   ],
   "source": [
    "# Pull out second element of third row\n",
    "a[2][1]"
   ]
  },
  {
   "cell_type": "code",
   "execution_count": 46,
   "id": "a599daaf",
   "metadata": {},
   "outputs": [
    {
     "data": {
      "text/plain": [
       "array([[1, 2],\n",
       "       [4, 5]])"
      ]
     },
     "execution_count": 46,
     "metadata": {},
     "output_type": "execute_result"
    }
   ],
   "source": [
    "# Pull out first two rows and columns\n",
    "a[:2,:2]"
   ]
  },
  {
   "cell_type": "code",
   "execution_count": 47,
   "id": "1501a164",
   "metadata": {},
   "outputs": [
    {
     "data": {
      "text/plain": [
       "array([[1, 2]])"
      ]
     },
     "execution_count": 47,
     "metadata": {},
     "output_type": "execute_result"
    }
   ],
   "source": [
    "a[:1,:2]"
   ]
  },
  {
   "cell_type": "code",
   "execution_count": 48,
   "id": "a7b762a3",
   "metadata": {},
   "outputs": [
    {
     "data": {
      "text/plain": [
       "array([[2, 3],\n",
       "       [5, 6]])"
      ]
     },
     "execution_count": 48,
     "metadata": {},
     "output_type": "execute_result"
    }
   ],
   "source": [
    "a[:2,1:]"
   ]
  },
  {
   "cell_type": "code",
   "execution_count": 49,
   "id": "054ac0fa",
   "metadata": {},
   "outputs": [
    {
     "data": {
      "text/plain": [
       "array([7, 8, 9])"
      ]
     },
     "execution_count": 49,
     "metadata": {},
     "output_type": "execute_result"
    }
   ],
   "source": [
    "a[2,:]"
   ]
  },
  {
   "cell_type": "markdown",
   "id": "c857be4d",
   "metadata": {},
   "source": [
    "### Integer Array Indexing:"
   ]
  },
  {
   "cell_type": "code",
   "execution_count": 50,
   "id": "b8f40f7c",
   "metadata": {},
   "outputs": [
    {
     "data": {
      "text/plain": [
       "array([[1, 2],\n",
       "       [3, 4],\n",
       "       [5, 6]])"
      ]
     },
     "execution_count": 50,
     "metadata": {},
     "output_type": "execute_result"
    }
   ],
   "source": [
    "a = np.array([[1,2],[3,4],[5,6]])\n",
    "a"
   ]
  },
  {
   "cell_type": "code",
   "execution_count": 51,
   "id": "7ee539b3",
   "metadata": {},
   "outputs": [
    {
     "data": {
      "text/plain": [
       "array([1, 4, 5])"
      ]
     },
     "execution_count": 51,
     "metadata": {},
     "output_type": "execute_result"
    }
   ],
   "source": [
    "a[[0,1,2],[0,1,0]]"
   ]
  },
  {
   "cell_type": "code",
   "execution_count": 52,
   "id": "9a5b7d76",
   "metadata": {},
   "outputs": [
    {
     "data": {
      "text/plain": [
       "array([4, 5, 2])"
      ]
     },
     "execution_count": 52,
     "metadata": {},
     "output_type": "execute_result"
    }
   ],
   "source": [
    "a[[1,2,0],[1,0,1]]"
   ]
  },
  {
   "cell_type": "code",
   "execution_count": 53,
   "id": "b008f381",
   "metadata": {},
   "outputs": [
    {
     "data": {
      "text/plain": [
       "array([1, 4, 5])"
      ]
     },
     "execution_count": 53,
     "metadata": {},
     "output_type": "execute_result"
    }
   ],
   "source": [
    "np.array([a[0,0],a[1,1],a[2,0]])"
   ]
  },
  {
   "cell_type": "code",
   "execution_count": 54,
   "id": "7bdf6a10",
   "metadata": {},
   "outputs": [
    {
     "data": {
      "text/plain": [
       "array([2, 2])"
      ]
     },
     "execution_count": 54,
     "metadata": {},
     "output_type": "execute_result"
    }
   ],
   "source": [
    "np.array([a[0,1],a[0,1]])"
   ]
  },
  {
   "cell_type": "markdown",
   "id": "b4f8d8c4",
   "metadata": {},
   "source": [
    "### Boolean Indexing:"
   ]
  },
  {
   "cell_type": "code",
   "execution_count": 55,
   "id": "1d457074",
   "metadata": {},
   "outputs": [
    {
     "name": "stdout",
     "output_type": "stream",
     "text": [
      "[[4 7 1]\n",
      " [2 5 7]\n",
      " [7 1 1]]\n",
      "[[ True  True False]\n",
      " [False  True  True]\n",
      " [ True False False]]\n"
     ]
    }
   ],
   "source": [
    "a = np.array([[4,7,1],[2,5,7],[7,1,1]])\n",
    "print(a)\n",
    "mask = a > 3\n",
    "print(mask)"
   ]
  },
  {
   "cell_type": "code",
   "execution_count": 56,
   "id": "3a93a69d",
   "metadata": {},
   "outputs": [
    {
     "name": "stdout",
     "output_type": "stream",
     "text": [
      "[4 7 5 7 7]\n"
     ]
    }
   ],
   "source": [
    "print(a[mask])"
   ]
  },
  {
   "cell_type": "markdown",
   "id": "07bc4cb7",
   "metadata": {},
   "source": [
    "### Vectorization:"
   ]
  },
  {
   "cell_type": "code",
   "execution_count": 57,
   "id": "17837b5d",
   "metadata": {},
   "outputs": [
    {
     "data": {
      "text/plain": [
       "array([[4, 7, 1],\n",
       "       [2, 5, 7],\n",
       "       [7, 1, 1]])"
      ]
     },
     "execution_count": 57,
     "metadata": {},
     "output_type": "execute_result"
    }
   ],
   "source": [
    "a"
   ]
  },
  {
   "cell_type": "code",
   "execution_count": 58,
   "id": "ccd1ac07",
   "metadata": {},
   "outputs": [
    {
     "data": {
      "text/plain": [
       "array([4, 7, 5, 7, 7])"
      ]
     },
     "execution_count": 58,
     "metadata": {},
     "output_type": "execute_result"
    }
   ],
   "source": [
    "a[a > 3]"
   ]
  },
  {
   "cell_type": "code",
   "execution_count": 59,
   "id": "d40b7df1",
   "metadata": {},
   "outputs": [
    {
     "name": "stdout",
     "output_type": "stream",
     "text": [
      "[[1 2 3]\n",
      " [4 5 6]\n",
      " [7 8 9]]\n",
      "[[10 11 12]\n",
      " [13 14 15]\n",
      " [16 17 18]]\n"
     ]
    }
   ],
   "source": [
    "# Creating two arrays for operations\n",
    "\n",
    "a = np.array([[1,2,3],[4,5,6],[7,8,9]])\n",
    "b = np.array([[10,11,12],[13,14,15],[16,17,18]])\n",
    "print(a)\n",
    "print(b)"
   ]
  },
  {
   "cell_type": "code",
   "execution_count": 60,
   "id": "fe7f5e47",
   "metadata": {},
   "outputs": [
    {
     "data": {
      "text/plain": [
       "array([[11, 13, 15],\n",
       "       [17, 19, 21],\n",
       "       [23, 25, 27]])"
      ]
     },
     "execution_count": 60,
     "metadata": {},
     "output_type": "execute_result"
    }
   ],
   "source": [
    "a + b"
   ]
  },
  {
   "cell_type": "code",
   "execution_count": 61,
   "id": "dfd958da",
   "metadata": {},
   "outputs": [
    {
     "data": {
      "text/plain": [
       "array([[-9, -9, -9],\n",
       "       [-9, -9, -9],\n",
       "       [-9, -9, -9]])"
      ]
     },
     "execution_count": 61,
     "metadata": {},
     "output_type": "execute_result"
    }
   ],
   "source": [
    "a - b"
   ]
  },
  {
   "cell_type": "code",
   "execution_count": 62,
   "id": "f196a84d",
   "metadata": {},
   "outputs": [
    {
     "data": {
      "text/plain": [
       "array([[ 10,  22,  36],\n",
       "       [ 52,  70,  90],\n",
       "       [112, 136, 162]])"
      ]
     },
     "execution_count": 62,
     "metadata": {},
     "output_type": "execute_result"
    }
   ],
   "source": [
    "a * b"
   ]
  },
  {
   "cell_type": "code",
   "execution_count": 63,
   "id": "08a5ee66",
   "metadata": {},
   "outputs": [
    {
     "data": {
      "text/plain": [
       "array([[0.1       , 0.18181818, 0.25      ],\n",
       "       [0.30769231, 0.35714286, 0.4       ],\n",
       "       [0.4375    , 0.47058824, 0.5       ]])"
      ]
     },
     "execution_count": 63,
     "metadata": {},
     "output_type": "execute_result"
    }
   ],
   "source": [
    "a / b"
   ]
  },
  {
   "cell_type": "code",
   "execution_count": 64,
   "id": "a1a61030",
   "metadata": {},
   "outputs": [
    {
     "data": {
      "text/plain": [
       "array([[1., 2., 3.],\n",
       "       [4., 5., 6.]])"
      ]
     },
     "execution_count": 64,
     "metadata": {},
     "output_type": "execute_result"
    }
   ],
   "source": [
    "a = np.array([[1,4,9],[16,25,36]])\n",
    "np.sqrt(a)"
   ]
  },
  {
   "cell_type": "markdown",
   "id": "7410da30",
   "metadata": {},
   "source": [
    "**These functions can also be as**:\n",
    "\n",
    "1. np.add(a,b)\n",
    "2. np.substract(a,b)\n",
    "3. np.multiply(a,b)\n",
    "4. np.divide(a,b)\n",
    "5. np.sqrt(a)"
   ]
  },
  {
   "cell_type": "markdown",
   "id": "65f4bbac",
   "metadata": {},
   "source": [
    "### Practice Exercise:\n",
    "\n",
    "We have a buy sell problem:\n",
    "\n",
    "Initialize an array [[40, 35, 20], [21, 48, 70]] which constitutes the prices on 2 consecutive day at 3 different sessions of the day. The objective is to buy at minimum price on day 1 and sell at maximum on day 2.\n",
    "\n",
    "1. Find the minimum price on day 1.\n",
    "2. Find the maximum price on day 2.\n",
    "3. Calculate the profit and print it."
   ]
  },
  {
   "cell_type": "code",
   "execution_count": null,
   "id": "f257beaf",
   "metadata": {},
   "outputs": [],
   "source": [
    "import numpy as np"
   ]
  },
  {
   "cell_type": "code",
   "execution_count": null,
   "id": "aadd3d07",
   "metadata": {},
   "outputs": [],
   "source": [
    "arr = np.array([[40, 35, 20], [21, 48, 70]])\n",
    "arr"
   ]
  },
  {
   "cell_type": "code",
   "execution_count": null,
   "id": "4dd38226",
   "metadata": {},
   "outputs": [],
   "source": [
    "buy_price = arr[0].min()\n",
    "buy_price"
   ]
  },
  {
   "cell_type": "code",
   "execution_count": null,
   "id": "77ce5637",
   "metadata": {},
   "outputs": [],
   "source": [
    "sell_price = arr[1].max()\n",
    "sell_price"
   ]
  },
  {
   "cell_type": "code",
   "execution_count": null,
   "id": "243a17f6",
   "metadata": {},
   "outputs": [],
   "source": [
    "profit = sell_price - buy_price\n",
    "print('Profit:',profit)"
   ]
  },
  {
   "cell_type": "markdown",
   "id": "9dc39973",
   "metadata": {},
   "source": [
    "### Axes Notation"
   ]
  },
  {
   "cell_type": "code",
   "execution_count": 65,
   "id": "a15d8126",
   "metadata": {},
   "outputs": [
    {
     "data": {
      "text/plain": [
       "array([[ 2,  5,  7],\n",
       "       [ 4, 25, 30]])"
      ]
     },
     "execution_count": 65,
     "metadata": {},
     "output_type": "execute_result"
    }
   ],
   "source": [
    "a = np.array([[2,5,7],[4,25,30]])\n",
    "a"
   ]
  },
  {
   "cell_type": "code",
   "execution_count": 66,
   "id": "58334dc8",
   "metadata": {},
   "outputs": [
    {
     "data": {
      "text/plain": [
       "array([ 6, 30, 37])"
      ]
     },
     "execution_count": 66,
     "metadata": {},
     "output_type": "execute_result"
    }
   ],
   "source": [
    "# computes sum over columns\n",
    "a.sum(axis = 0)"
   ]
  },
  {
   "cell_type": "code",
   "execution_count": 67,
   "id": "1285238f",
   "metadata": {},
   "outputs": [
    {
     "data": {
      "text/plain": [
       "array([14, 59])"
      ]
     },
     "execution_count": 67,
     "metadata": {},
     "output_type": "execute_result"
    }
   ],
   "source": [
    "# computes sum over rows\n",
    "a.sum(axis = 1)"
   ]
  },
  {
   "cell_type": "code",
   "execution_count": 68,
   "id": "6fb69dca",
   "metadata": {},
   "outputs": [
    {
     "data": {
      "text/plain": [
       "73"
      ]
     },
     "execution_count": 68,
     "metadata": {},
     "output_type": "execute_result"
    }
   ],
   "source": [
    "# total sum\n",
    "a.sum()"
   ]
  },
  {
   "cell_type": "markdown",
   "id": "8678a777",
   "metadata": {},
   "source": [
    "### Broadcasting:"
   ]
  },
  {
   "cell_type": "code",
   "execution_count": 69,
   "id": "2723315d",
   "metadata": {},
   "outputs": [
    {
     "data": {
      "text/plain": [
       "array([ 1,  2,  3,  4,  5,  6,  7,  8,  9, 10, 11, 12, 13, 14, 15, 16, 17,\n",
       "       18, 19])"
      ]
     },
     "execution_count": 69,
     "metadata": {},
     "output_type": "execute_result"
    }
   ],
   "source": [
    "np.arange(1,20)"
   ]
  },
  {
   "cell_type": "code",
   "execution_count": 70,
   "id": "c3b1da8b",
   "metadata": {},
   "outputs": [
    {
     "data": {
      "text/plain": [
       "array([ 1,  3,  5,  7,  9, 11, 13, 15, 17, 19])"
      ]
     },
     "execution_count": 70,
     "metadata": {},
     "output_type": "execute_result"
    }
   ],
   "source": [
    "np.arange(1,20,2)"
   ]
  },
  {
   "cell_type": "code",
   "execution_count": 73,
   "id": "4bb11080",
   "metadata": {},
   "outputs": [
    {
     "data": {
      "text/plain": [
       "array([0, 1, 2])"
      ]
     },
     "execution_count": 73,
     "metadata": {},
     "output_type": "execute_result"
    }
   ],
   "source": [
    "np.arange(3)"
   ]
  },
  {
   "cell_type": "code",
   "execution_count": 72,
   "id": "313464cd",
   "metadata": {},
   "outputs": [
    {
     "data": {
      "text/plain": [
       "array([4, 5, 6])"
      ]
     },
     "execution_count": 72,
     "metadata": {},
     "output_type": "execute_result"
    }
   ],
   "source": [
    "np.arange(3) + 4"
   ]
  },
  {
   "cell_type": "code",
   "execution_count": 74,
   "id": "11acfc1a",
   "metadata": {},
   "outputs": [
    {
     "data": {
      "text/plain": [
       "array([[1., 2., 3.],\n",
       "       [1., 2., 3.],\n",
       "       [1., 2., 3.]])"
      ]
     },
     "execution_count": 74,
     "metadata": {},
     "output_type": "execute_result"
    }
   ],
   "source": [
    "np.ones((3,3)) + np.arange(3)"
   ]
  },
  {
   "cell_type": "code",
   "execution_count": 75,
   "id": "898454e2",
   "metadata": {},
   "outputs": [
    {
     "data": {
      "text/plain": [
       "array([0, 1, 2])"
      ]
     },
     "execution_count": 75,
     "metadata": {},
     "output_type": "execute_result"
    }
   ],
   "source": [
    "np.arange(3) "
   ]
  },
  {
   "cell_type": "code",
   "execution_count": 76,
   "id": "665fb077",
   "metadata": {},
   "outputs": [
    {
     "data": {
      "text/plain": [
       "array([[0],\n",
       "       [1],\n",
       "       [2]])"
      ]
     },
     "execution_count": 76,
     "metadata": {},
     "output_type": "execute_result"
    }
   ],
   "source": [
    "np.arange(3).reshape(3,1)"
   ]
  },
  {
   "cell_type": "code",
   "execution_count": 77,
   "id": "5b911ea8",
   "metadata": {},
   "outputs": [
    {
     "data": {
      "text/plain": [
       "array([[0, 1, 2],\n",
       "       [1, 2, 3],\n",
       "       [2, 3, 4]])"
      ]
     },
     "execution_count": 77,
     "metadata": {},
     "output_type": "execute_result"
    }
   ],
   "source": [
    "np.arange(3).reshape(3,1) + np.arange(3)"
   ]
  },
  {
   "cell_type": "markdown",
   "id": "9c5ed339",
   "metadata": {},
   "source": [
    "### Mini Project:\n",
    "Let us build a project to learn more about NumPy:\n",
    "\n",
    "Features of the data set:\n",
    "\n",
    "Age: Age of the person \n",
    "\n",
    "education-num:    No. of years of education they had\n",
    "\n",
    "race: Person's race 0 - Amer-Indian-Eskimo <br>\n",
    "                    1 - Asian-Pac-Islander <br>\n",
    "                    2 - Black <br>\n",
    "                    3 - Other <br>\n",
    "                    4 - White <br>\n",
    "\n",
    "sex:    Person's gender\n",
    "        0 - Female <br>\n",
    "        1 - Male <br>\n",
    "        \n",
    "capital-gain: Income from investment sources, apart from wages/salary\n",
    "\n",
    "capital loss: Losses from investment sources, apart from wages/salary\n",
    "\n",
    "hours-per-week:    No. of hours per week the person works\n",
    "\n",
    "income:    Annual Income of the person <br>\n",
    "        0 : Less than or equal to 50K <br>\n",
    "        1 : More than 50K <br>"
   ]
  },
  {
   "cell_type": "code",
   "execution_count": null,
   "id": "f0d37d12",
   "metadata": {},
   "outputs": [],
   "source": [
    "data_file = 'makeSenseOfCensus.csv'"
   ]
  },
  {
   "cell_type": "code",
   "execution_count": null,
   "id": "ba998379",
   "metadata": {},
   "outputs": [],
   "source": [
    "# Loading the Data\n",
    "data = np.genfromtxt(data_file,delimiter=',',skip_header=1)\n",
    "print(data)"
   ]
  },
  {
   "cell_type": "code",
   "execution_count": null,
   "id": "a9f778b2",
   "metadata": {},
   "outputs": [],
   "source": [
    "type(data)"
   ]
  },
  {
   "cell_type": "code",
   "execution_count": null,
   "id": "a7a7ef61",
   "metadata": {},
   "outputs": [],
   "source": [
    "data.shape"
   ]
  },
  {
   "cell_type": "markdown",
   "id": "265d384a",
   "metadata": {},
   "source": [
    "#### Append the Data\n",
    "Append 'new_record' (given) to 'data' using \"np.concatenate()\""
   ]
  },
  {
   "cell_type": "code",
   "execution_count": null,
   "id": "700e7ebb",
   "metadata": {},
   "outputs": [],
   "source": [
    "new_record = [[50,9,4,1,0,0,40,0]]\n",
    "new_data = np.concatenate((data,new_record),axis = 0)\n",
    "print(new_data)"
   ]
  },
  {
   "cell_type": "code",
   "execution_count": null,
   "id": "c2b18156",
   "metadata": {},
   "outputs": [],
   "source": [
    "new_data.shape"
   ]
  },
  {
   "cell_type": "code",
   "execution_count": null,
   "id": "90ce182d",
   "metadata": {},
   "outputs": [],
   "source": [
    "# Create a new array called 'age' by taking only age column\n",
    "# (age is the column with index 0)of 'census' array.\n",
    "age = new_data[:,0]\n",
    "age"
   ]
  },
  {
   "cell_type": "code",
   "execution_count": null,
   "id": "e93ef396",
   "metadata": {},
   "outputs": [],
   "source": [
    "# Find the max age and store it in a variable called 'max_age'.\n",
    "max_age = age.max()\n",
    "print('Maximum age:',max_age)"
   ]
  },
  {
   "cell_type": "code",
   "execution_count": null,
   "id": "717bb50e",
   "metadata": {},
   "outputs": [],
   "source": [
    "# Find the min age and store it in a variable called 'min_age'.\n",
    "min_age = age.min()\n",
    "print('Minimum age:',min_age)"
   ]
  },
  {
   "cell_type": "code",
   "execution_count": null,
   "id": "acd19840",
   "metadata": {},
   "outputs": [],
   "source": [
    "# Find the mean age and store it in a variable called 'mean_age'.\n",
    "mean_age = age.mean()\n",
    "print('Average age:',mean_age)"
   ]
  },
  {
   "cell_type": "markdown",
   "id": "3d211474",
   "metadata": {},
   "source": [
    "As per govt. records citizens above 60 should not work more than 25 hours a week. Let us check if the policy is in place"
   ]
  },
  {
   "cell_type": "code",
   "execution_count": null,
   "id": "4f8f6746",
   "metadata": {},
   "outputs": [],
   "source": [
    "senior_citizens = age[age>60]\n",
    "senior_citizens"
   ]
  },
  {
   "cell_type": "code",
   "execution_count": null,
   "id": "76d85658",
   "metadata": {},
   "outputs": [],
   "source": [
    "num_of_senior_citizen =  len(senior_citizens)\n",
    "num_of_senior_citizen"
   ]
  },
  {
   "cell_type": "code",
   "execution_count": null,
   "id": "3f49df8e",
   "metadata": {},
   "outputs": [],
   "source": [
    "working_hour = new_data[:,6]\n",
    "working_hour_sum = np.sum(working_hour[age > 60])\n",
    "print('Total working hours of Senior Citizens:',working_hour_sum)"
   ]
  },
  {
   "cell_type": "code",
   "execution_count": null,
   "id": "ca9c01ea",
   "metadata": {},
   "outputs": [],
   "source": [
    "avg_working_hours = working_hour_sum / num_of_senior_citizen\n",
    "print(avg_working_hours)"
   ]
  },
  {
   "cell_type": "code",
   "execution_count": null,
   "id": "33a50e68",
   "metadata": {},
   "outputs": [],
   "source": [
    "if avg_working_hours <= 25:\n",
    "    print('Govt policy is followed')\n",
    "else:\n",
    "    print('Govt policy is not followed')"
   ]
  },
  {
   "cell_type": "markdown",
   "id": "d7118a1c",
   "metadata": {},
   "source": [
    "# check that higher educated people have better pay in general."
   ]
  },
  {
   "cell_type": "code",
   "execution_count": null,
   "id": "f4aa2766",
   "metadata": {},
   "outputs": [],
   "source": [
    "edu = new_data[:,1]\n",
    "high = edu[edu > 10]\n",
    "low = edu[edu <= 10]\n",
    "print(len(high))\n",
    "print(len(low))"
   ]
  },
  {
   "cell_type": "code",
   "execution_count": null,
   "id": "6544a27e",
   "metadata": {},
   "outputs": [],
   "source": [
    "income = new_data[:,7]\n",
    "avg_pay_high = np.mean(income[edu>10])\n",
    "print(avg_pay_high)\n",
    "avg_pay_low = np.mean(income[edu<=10])\n",
    "print(avg_pay_low)"
   ]
  },
  {
   "cell_type": "code",
   "execution_count": null,
   "id": "198f0dec",
   "metadata": {},
   "outputs": [],
   "source": [
    "if avg_pay_high > avg_pay_low:\n",
    "    print('Higher educated people have better pay in general')\n",
    "else:\n",
    "    print('Higher educated people do not have better pay in general')"
   ]
  },
  {
   "cell_type": "code",
   "execution_count": null,
   "id": "1bfaccb0",
   "metadata": {},
   "outputs": [],
   "source": [
    "import numpy as np\n",
    "data_file = 'KAG_Conversion_Data.csv'"
   ]
  },
  {
   "cell_type": "code",
   "execution_count": null,
   "id": "1e5251cf",
   "metadata": {},
   "outputs": [],
   "source": [
    "data_str = np.genfromtxt(data_file,delimiter=',',skip_header = 1,dtype='str')\n",
    "data_float = np.genfromtxt(data_file,delimiter=',',skip_header = 1,dtype='float')"
   ]
  },
  {
   "cell_type": "code",
   "execution_count": null,
   "id": "4cf72ef0",
   "metadata": {},
   "outputs": [],
   "source": [
    "print(data_str)"
   ]
  },
  {
   "cell_type": "code",
   "execution_count": null,
   "id": "28bec14d",
   "metadata": {},
   "outputs": [],
   "source": [
    "print(data_float)"
   ]
  },
  {
   "cell_type": "markdown",
   "id": "8760ffc1",
   "metadata": {},
   "source": [
    "- Load the data. Data is already given to you in variable path\n",
    "\n",
    "- How many unique ad campaigns (xyzcampaignid) does this data contain ? And for how many times was each campaign run ?\n",
    "\n",
    "- What are the age groups that were targeted through these ad campaigns?\n",
    "\n",
    "- What was the average, minimum and maximum amount spent on the ads?\n",
    "\n",
    "- What is the id of the ad having the maximum number of clicks ?\n",
    "\n",
    "- How many people bought the product after seeing the ad with most clicks? Is that the maximum number of purchases in this dataset?\n",
    "\n",
    "- So the ad with the most clicks didn't fetch the maximum number of purchases. Find the details of the product having maximum number of purchases"
   ]
  },
  {
   "cell_type": "markdown",
   "id": "376bd956",
   "metadata": {},
   "source": [
    "Features:\n",
    "\n",
    "1. ad_id:    unique ID for each ad\n",
    "2. xyzcampaignid:    an ID associated with each ad campaign of XYZ company\n",
    "3. fbcampaignid:    an ID associated with how Facebook tracks each campaign\n",
    "4. age:    age of the person to whom the ad is shown\n",
    "5. gender:    gender of the person to whom the add is shown\n",
    "6. interest:    a code specifying the category to which the person’s interest belongs (interests are as mentioned in the person’s Facebook public profile)\n",
    "7. Impressions:    the number of times the ad was shown\n",
    "8. Clicks:    number of clicks on for that ad\n",
    "9. Spent:    Amount paid by company xyz to Facebook, to show that ad\n",
    "10. Total conversion:    Total number of people who enquired about the product after seeing the ad\n",
    "11. Approved conversion:    Total number of people who bought the product after seeing the ad"
   ]
  },
  {
   "cell_type": "code",
   "execution_count": null,
   "id": "c1dafcdc",
   "metadata": {},
   "outputs": [],
   "source": [
    "# How many unique ad campaigns (xyzcampaignid) does this data contain ? And for how many times was each campaign run ?\n",
    "xyz = data_str[:,1]\n",
    "unique_id = np.unique(xyz)\n",
    "print(unique_id)"
   ]
  },
  {
   "cell_type": "code",
   "execution_count": null,
   "id": "5023a5af",
   "metadata": {},
   "outputs": [],
   "source": [
    "unique_id,count = np.unique(xyz, return_counts = True)\n",
    "print(unique_id)\n",
    "print(count)"
   ]
  },
  {
   "cell_type": "code",
   "execution_count": null,
   "id": "c1e5bc53",
   "metadata": {},
   "outputs": [],
   "source": [
    "for i in range(len(unique_id)):\n",
    "    print('{} ran {} times'.format(unique_id[i],count[i]))"
   ]
  },
  {
   "cell_type": "code",
   "execution_count": null,
   "id": "48051729",
   "metadata": {},
   "outputs": [],
   "source": [
    "# What are the age groups that were targeted through these ad campaigns?\n",
    "age_group = data_str[:,3]\n",
    "print(age_group)"
   ]
  },
  {
   "cell_type": "code",
   "execution_count": null,
   "id": "790d54ee",
   "metadata": {},
   "outputs": [],
   "source": [
    "np.unique(age_group)"
   ]
  },
  {
   "cell_type": "code",
   "execution_count": null,
   "id": "1250b42e",
   "metadata": {},
   "outputs": [],
   "source": [
    "# What was the average, minimum and maximum amount spent on the ads?\n",
    "spent = data_float[:,8]\n",
    "avg_spent = spent.mean()\n",
    "min_spent = spent.min()\n",
    "max_spent = spent.max()\n",
    "print('Average amount spent: ', avg_spent)\n",
    "print('Minimum amount spent: ', min_spent)\n",
    "print('Maximum amount spent: ', max_spent)"
   ]
  },
  {
   "cell_type": "code",
   "execution_count": null,
   "id": "8965190a",
   "metadata": {},
   "outputs": [],
   "source": [
    "# What is the id of the ad having the maximum number of clicks ?\n",
    "id_col = data_float[:,0]\n",
    "clicks = data_float[:,7]\n",
    "print('Maximun no of clicks',clicks.max())\n",
    "print('Id of the ad having maximum no of clicks',id_col[clicks == clicks.max()])"
   ]
  },
  {
   "cell_type": "code",
   "execution_count": null,
   "id": "a16ee808",
   "metadata": {},
   "outputs": [],
   "source": []
  }
 ],
 "metadata": {
  "kernelspec": {
   "display_name": "Python 3 (ipykernel)",
   "language": "python",
   "name": "python3"
  },
  "language_info": {
   "codemirror_mode": {
    "name": "ipython",
    "version": 3
   },
   "file_extension": ".py",
   "mimetype": "text/x-python",
   "name": "python",
   "nbconvert_exporter": "python",
   "pygments_lexer": "ipython3",
   "version": "3.9.20"
  }
 },
 "nbformat": 4,
 "nbformat_minor": 5
}
